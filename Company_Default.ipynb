{
  "nbformat": 4,
  "nbformat_minor": 0,
  "metadata": {
    "kernelspec": {
      "display_name": "Python 3",
      "language": "python",
      "name": "python3"
    },
    "language_info": {
      "codemirror_mode": {
        "name": "ipython",
        "version": 3
      },
      "file_extension": ".py",
      "mimetype": "text/x-python",
      "name": "python",
      "nbconvert_exporter": "python",
      "pygments_lexer": "ipython3",
      "version": "3.7.4"
    },
    "colab": {
      "name": "Company_Default.ipynb",
      "provenance": [],
      "collapsed_sections": [
        "26NFqAidMpNj",
        "JvTZDZKXMpN8"
      ]
    }
  },
  "cells": [
    {
      "cell_type": "markdown",
      "metadata": {
        "id": "Ktzv2R6GMpNR"
      },
      "source": [
        "# Company Default Data\n",
        "\n",
        "### Description:\n",
        "The aim of this model is identify corporate lending risk for banks or financial institution. The dataset contains information of 1384 Indian companies across 11 variables for the year 2019. Using this data, we are creating a set of supervised learning models with Logistic Regression, LDA and Random Forest to predict corporate default.\n",
        "\n",
        "### Usage\n",
        "Default\n",
        "\n",
        "### Format\n",
        "A data frame with 1384 observations on the following 11 variables\n",
        "\n",
        "***Num***: ID of each company\n",
        "\n",
        "***Default***: Default payment in next month (1=yes, 0=no)\n",
        "\n",
        "***Total_assets***: Total amount of assets owned by the company\n",
        "\n",
        "***Total_income***: Total income a business receives before any taxes, expenses, adjustments, exemptions, or deductions are taken out\n",
        "\n",
        "***PAT_as_%_of_total_income***: Profit per sales dollar after all expenses are deducted from sales\n",
        "\n",
        "***PBDITA_as_%_of_total_income***: Profit before depreciation, income tax and amortization divided by Total income\n",
        "\n",
        "***PBT_as_%_of_total_income***: Profit per sales dollar before all expenses are deducted from sales\n",
        "\n",
        "***Cash_profit_as_%_of_total_income***: Profit recorded by a business that uses the cash basis of accounting (Cash Profit:Total Cash profit)\n",
        "\n",
        "***Current_ratio***: Liquidity ratio that measures a company's ability to pay short-term obligations or those due within one year (Current assets divided by current liabilities)\n",
        "\n",
        "***Debt_to_equity_ratio***: Leverage ratio that calculates the weight of total debt and financial liabilities against total shareholders’ equity\n",
        "\n",
        "\n",
        "### Source:\n",
        "Simulated data"
      ]
    },
    {
      "cell_type": "markdown",
      "metadata": {
        "id": "pHmd0da5MpNT"
      },
      "source": [
        "from google.colab import drive\n",
        "drive.mount('/content/drive')\n",
        "import os\n",
        "os.chdir('/content/drive/MyDrive/Colab Notebooks/Financial & Risk Analytics')\n",
        "\n",
        "import pandas as pd\n",
        "import numpy as np\n",
        "import matplotlib.pyplot as plt\n",
        "import seaborn as sns\n",
        "\n",
        "import warnings\n",
        "warnings.filterwarnings(\"ignore\")\n",
        "\n",
        "\n",
        "#### Importing the libraries"
      ]
    },
    {
      "cell_type": "code",
      "metadata": {
        "id": "9TZ7BnUCMpNU"
      },
      "source": [
        "\n",
        "#os.chdir('/content/drive/My Drive/Colab Notebooks/Machine Learning/Datasets')\n",
        "from google.colab import drive\n",
        "drive.mount('/content/drive')\n",
        "\n",
        "import os\n",
        "os.chdir('/content/drive/MyDrive/Colab Notebooks/Financial & Risk Analytics/Company Credit Risk')\n",
        "\n",
        "import pandas as pd\n",
        "import numpy as np\n",
        "import matplotlib.pyplot as plt\n",
        "import seaborn as sns\n",
        "\n",
        "import warnings\n",
        "warnings.filterwarnings(\"ignore\")\n",
        "\n",
        "color = sns.color_palette()\n",
        "import sklearn.metrics as metrics\n"
      ],
      "execution_count": null,
      "outputs": []
    },
    {
      "cell_type": "markdown",
      "metadata": {
        "id": "_kceW7nsMpNV"
      },
      "source": [
        "#### Importing the dataset"
      ]
    },
    {
      "cell_type": "code",
      "metadata": {
        "colab": {
          "base_uri": "https://localhost:8080/",
          "height": 206
        },
        "id": "hT6HOyCLMpNV",
        "outputId": "cf43ccbb-917c-4060-856c-b9d11c2f2689"
      },
      "source": [
        "Default = pd.read_csv('CompanyDefault.csv')\n",
        "\n",
        "#Glimpse of Data\n",
        "Default.head()"
      ],
      "execution_count": null,
      "outputs": [
        {
          "output_type": "execute_result",
          "data": {
            "text/html": [
              "<div>\n",
              "<style scoped>\n",
              "    .dataframe tbody tr th:only-of-type {\n",
              "        vertical-align: middle;\n",
              "    }\n",
              "\n",
              "    .dataframe tbody tr th {\n",
              "        vertical-align: top;\n",
              "    }\n",
              "\n",
              "    .dataframe thead th {\n",
              "        text-align: right;\n",
              "    }\n",
              "</style>\n",
              "<table border=\"1\" class=\"dataframe\">\n",
              "  <thead>\n",
              "    <tr style=\"text-align: right;\">\n",
              "      <th></th>\n",
              "      <th>Num</th>\n",
              "      <th>default</th>\n",
              "      <th>Total_assets</th>\n",
              "      <th>Total_income</th>\n",
              "      <th>PAT_as_%_of_total_income</th>\n",
              "      <th>PBDITA_as_%_of_total_income</th>\n",
              "      <th>PBT_as_%_of_total_income</th>\n",
              "      <th>Cash_profit_as_%_of_total_income</th>\n",
              "      <th>Current_ratio</th>\n",
              "      <th>Debt_to_equity_ratio</th>\n",
              "    </tr>\n",
              "  </thead>\n",
              "  <tbody>\n",
              "    <tr>\n",
              "      <th>0</th>\n",
              "      <td>1</td>\n",
              "      <td>1</td>\n",
              "      <td>210.5</td>\n",
              "      <td>125.3</td>\n",
              "      <td>-25.059856</td>\n",
              "      <td>-10.454908</td>\n",
              "      <td>-25.059856</td>\n",
              "      <td>-19.792498</td>\n",
              "      <td>0.86</td>\n",
              "      <td>2.99</td>\n",
              "    </tr>\n",
              "    <tr>\n",
              "      <th>1</th>\n",
              "      <td>2</td>\n",
              "      <td>1</td>\n",
              "      <td>674.4</td>\n",
              "      <td>939.6</td>\n",
              "      <td>-5.487016</td>\n",
              "      <td>-0.723712</td>\n",
              "      <td>-5.487016</td>\n",
              "      <td>-4.252448</td>\n",
              "      <td>0.87</td>\n",
              "      <td>48.74</td>\n",
              "    </tr>\n",
              "    <tr>\n",
              "      <th>2</th>\n",
              "      <td>3</td>\n",
              "      <td>1</td>\n",
              "      <td>288.3</td>\n",
              "      <td>1.2</td>\n",
              "      <td>-2233.333333</td>\n",
              "      <td>-1785.083333</td>\n",
              "      <td>-2175.000000</td>\n",
              "      <td>-2100.000000</td>\n",
              "      <td>1.40</td>\n",
              "      <td>0.28</td>\n",
              "    </tr>\n",
              "    <tr>\n",
              "      <th>3</th>\n",
              "      <td>4</td>\n",
              "      <td>1</td>\n",
              "      <td>32.2</td>\n",
              "      <td>30.3</td>\n",
              "      <td>-15.511551</td>\n",
              "      <td>-6.930693</td>\n",
              "      <td>-15.181518</td>\n",
              "      <td>-12.541254</td>\n",
              "      <td>0.44</td>\n",
              "      <td>24.50</td>\n",
              "    </tr>\n",
              "    <tr>\n",
              "      <th>4</th>\n",
              "      <td>5</td>\n",
              "      <td>1</td>\n",
              "      <td>380.9</td>\n",
              "      <td>24.6</td>\n",
              "      <td>-208.943089</td>\n",
              "      <td>-1.626016</td>\n",
              "      <td>-208.536585</td>\n",
              "      <td>-142.276423</td>\n",
              "      <td>1.17</td>\n",
              "      <td>10.37</td>\n",
              "    </tr>\n",
              "  </tbody>\n",
              "</table>\n",
              "</div>"
            ],
            "text/plain": [
              "   Num  default  ...  Current_ratio  Debt_to_equity_ratio\n",
              "0    1        1  ...           0.86                  2.99\n",
              "1    2        1  ...           0.87                 48.74\n",
              "2    3        1  ...           1.40                  0.28\n",
              "3    4        1  ...           0.44                 24.50\n",
              "4    5        1  ...           1.17                 10.37\n",
              "\n",
              "[5 rows x 10 columns]"
            ]
          },
          "metadata": {},
          "execution_count": 43
        }
      ]
    },
    {
      "cell_type": "code",
      "metadata": {
        "colab": {
          "base_uri": "https://localhost:8080/"
        },
        "id": "NxIS-zmnDUQU",
        "outputId": "3745b850-ac36-4ea7-b406-6d1ab98d0273"
      },
      "source": [
        "Default.shape"
      ],
      "execution_count": null,
      "outputs": [
        {
          "output_type": "execute_result",
          "data": {
            "text/plain": [
              "(1384, 10)"
            ]
          },
          "metadata": {},
          "execution_count": 44
        }
      ]
    },
    {
      "cell_type": "markdown",
      "metadata": {
        "id": "aSykfd3tMpNX"
      },
      "source": [
        "#### Fixing messy column names (containing spaces) for ease of use"
      ]
    },
    {
      "cell_type": "code",
      "metadata": {
        "id": "cCf-EmCcMpNX"
      },
      "source": [
        "Default.columns = Default.columns.str.replace('as_%_of', 'to')"
      ],
      "execution_count": null,
      "outputs": []
    },
    {
      "cell_type": "code",
      "metadata": {
        "colab": {
          "base_uri": "https://localhost:8080/",
          "height": 206
        },
        "id": "i8VZl02EMpNY",
        "outputId": "7a6f581b-7a64-4afa-f13a-c19af39f08e0"
      },
      "source": [
        "Default.head()"
      ],
      "execution_count": null,
      "outputs": [
        {
          "output_type": "execute_result",
          "data": {
            "text/html": [
              "<div>\n",
              "<style scoped>\n",
              "    .dataframe tbody tr th:only-of-type {\n",
              "        vertical-align: middle;\n",
              "    }\n",
              "\n",
              "    .dataframe tbody tr th {\n",
              "        vertical-align: top;\n",
              "    }\n",
              "\n",
              "    .dataframe thead th {\n",
              "        text-align: right;\n",
              "    }\n",
              "</style>\n",
              "<table border=\"1\" class=\"dataframe\">\n",
              "  <thead>\n",
              "    <tr style=\"text-align: right;\">\n",
              "      <th></th>\n",
              "      <th>Num</th>\n",
              "      <th>default</th>\n",
              "      <th>Total_assets</th>\n",
              "      <th>Total_income</th>\n",
              "      <th>PAT_to_total_income</th>\n",
              "      <th>PBDITA_to_total_income</th>\n",
              "      <th>PBT_to_total_income</th>\n",
              "      <th>Cash_profit_to_total_income</th>\n",
              "      <th>Current_ratio</th>\n",
              "      <th>Debt_to_equity_ratio</th>\n",
              "    </tr>\n",
              "  </thead>\n",
              "  <tbody>\n",
              "    <tr>\n",
              "      <th>0</th>\n",
              "      <td>1</td>\n",
              "      <td>1</td>\n",
              "      <td>210.5</td>\n",
              "      <td>125.3</td>\n",
              "      <td>-25.059856</td>\n",
              "      <td>-10.454908</td>\n",
              "      <td>-25.059856</td>\n",
              "      <td>-19.792498</td>\n",
              "      <td>0.86</td>\n",
              "      <td>2.99</td>\n",
              "    </tr>\n",
              "    <tr>\n",
              "      <th>1</th>\n",
              "      <td>2</td>\n",
              "      <td>1</td>\n",
              "      <td>674.4</td>\n",
              "      <td>939.6</td>\n",
              "      <td>-5.487016</td>\n",
              "      <td>-0.723712</td>\n",
              "      <td>-5.487016</td>\n",
              "      <td>-4.252448</td>\n",
              "      <td>0.87</td>\n",
              "      <td>48.74</td>\n",
              "    </tr>\n",
              "    <tr>\n",
              "      <th>2</th>\n",
              "      <td>3</td>\n",
              "      <td>1</td>\n",
              "      <td>288.3</td>\n",
              "      <td>1.2</td>\n",
              "      <td>-2233.333333</td>\n",
              "      <td>-1785.083333</td>\n",
              "      <td>-2175.000000</td>\n",
              "      <td>-2100.000000</td>\n",
              "      <td>1.40</td>\n",
              "      <td>0.28</td>\n",
              "    </tr>\n",
              "    <tr>\n",
              "      <th>3</th>\n",
              "      <td>4</td>\n",
              "      <td>1</td>\n",
              "      <td>32.2</td>\n",
              "      <td>30.3</td>\n",
              "      <td>-15.511551</td>\n",
              "      <td>-6.930693</td>\n",
              "      <td>-15.181518</td>\n",
              "      <td>-12.541254</td>\n",
              "      <td>0.44</td>\n",
              "      <td>24.50</td>\n",
              "    </tr>\n",
              "    <tr>\n",
              "      <th>4</th>\n",
              "      <td>5</td>\n",
              "      <td>1</td>\n",
              "      <td>380.9</td>\n",
              "      <td>24.6</td>\n",
              "      <td>-208.943089</td>\n",
              "      <td>-1.626016</td>\n",
              "      <td>-208.536585</td>\n",
              "      <td>-142.276423</td>\n",
              "      <td>1.17</td>\n",
              "      <td>10.37</td>\n",
              "    </tr>\n",
              "  </tbody>\n",
              "</table>\n",
              "</div>"
            ],
            "text/plain": [
              "   Num  default  ...  Current_ratio  Debt_to_equity_ratio\n",
              "0    1        1  ...           0.86                  2.99\n",
              "1    2        1  ...           0.87                 48.74\n",
              "2    3        1  ...           1.40                  0.28\n",
              "3    4        1  ...           0.44                 24.50\n",
              "4    5        1  ...           1.17                 10.37\n",
              "\n",
              "[5 rows x 10 columns]"
            ]
          },
          "metadata": {},
          "execution_count": 31
        }
      ]
    },
    {
      "cell_type": "markdown",
      "metadata": {
        "id": "cfZTMWhMMpNZ"
      },
      "source": [
        "#### First, let us check the number of rows (observations) and the number of columns (variables)."
      ]
    },
    {
      "cell_type": "code",
      "metadata": {
        "colab": {
          "base_uri": "https://localhost:8080/"
        },
        "id": "LruR3ge_MpNa",
        "outputId": "7b96837c-8093-48a7-a6cc-5d5205d479e1"
      },
      "source": [
        "print('The number of rows (observations) is',Default.shape[0],'\\n''The number of columns (variables) is',Default.shape[1])"
      ],
      "execution_count": null,
      "outputs": [
        {
          "output_type": "stream",
          "name": "stdout",
          "text": [
            "The number of rows (observations) is 1384 \n",
            "The number of columns (variables) is 10\n"
          ]
        }
      ]
    },
    {
      "cell_type": "markdown",
      "metadata": {
        "id": "Of33-IKnMpNa"
      },
      "source": [
        "#### Data types of all variables"
      ]
    },
    {
      "cell_type": "code",
      "metadata": {
        "scrolled": true,
        "colab": {
          "base_uri": "https://localhost:8080/"
        },
        "id": "rkg5ghhWMpNb",
        "outputId": "71e94249-9bac-42fb-8a65-0c6f6151caec"
      },
      "source": [
        "Default.info()"
      ],
      "execution_count": null,
      "outputs": [
        {
          "output_type": "stream",
          "name": "stdout",
          "text": [
            "<class 'pandas.core.frame.DataFrame'>\n",
            "RangeIndex: 1384 entries, 0 to 1383\n",
            "Data columns (total 10 columns):\n",
            " #   Column                       Non-Null Count  Dtype  \n",
            "---  ------                       --------------  -----  \n",
            " 0   Num                          1384 non-null   int64  \n",
            " 1   default                      1384 non-null   int64  \n",
            " 2   Total_assets                 1384 non-null   float64\n",
            " 3   Total_income                 1384 non-null   float64\n",
            " 4   PAT_to_total_income          1384 non-null   float64\n",
            " 5   PBDITA_to_total_income       1384 non-null   float64\n",
            " 6   PBT_to_total_income          1384 non-null   float64\n",
            " 7   Cash_profit_to_total_income  1384 non-null   float64\n",
            " 8   Current_ratio                1384 non-null   float64\n",
            " 9   Debt_to_equity_ratio         1384 non-null   float64\n",
            "dtypes: float64(8), int64(2)\n",
            "memory usage: 108.2 KB\n"
          ]
        }
      ]
    },
    {
      "cell_type": "code",
      "metadata": {
        "colab": {
          "base_uri": "https://localhost:8080/"
        },
        "id": "WMFgSmJ4MpNc",
        "outputId": "ee094ffd-ee79-49c8-90cb-511647a38dcf"
      },
      "source": [
        "Default.duplicated().sum()"
      ],
      "execution_count": null,
      "outputs": [
        {
          "output_type": "execute_result",
          "data": {
            "text/plain": [
              "0"
            ]
          },
          "metadata": {},
          "execution_count": 34
        }
      ]
    },
    {
      "cell_type": "code",
      "metadata": {
        "id": "CQosHwPwMpNd"
      },
      "source": [
        "Default.drop('Num', axis = 1, inplace = True)"
      ],
      "execution_count": null,
      "outputs": []
    },
    {
      "cell_type": "markdown",
      "metadata": {
        "id": "gEh0IpZAMpNd"
      },
      "source": [
        "#### Now, let us check the basic measures of descriptive statistics for the continuous variables."
      ]
    },
    {
      "cell_type": "code",
      "metadata": {
        "colab": {
          "base_uri": "https://localhost:8080/",
          "height": 300
        },
        "id": "PsAu-rvHMpNd",
        "outputId": "2ff7ab88-ef71-41c2-e8f0-6a476e5c422f"
      },
      "source": [
        "Default.describe()"
      ],
      "execution_count": null,
      "outputs": [
        {
          "output_type": "execute_result",
          "data": {
            "text/html": [
              "<div>\n",
              "<style scoped>\n",
              "    .dataframe tbody tr th:only-of-type {\n",
              "        vertical-align: middle;\n",
              "    }\n",
              "\n",
              "    .dataframe tbody tr th {\n",
              "        vertical-align: top;\n",
              "    }\n",
              "\n",
              "    .dataframe thead th {\n",
              "        text-align: right;\n",
              "    }\n",
              "</style>\n",
              "<table border=\"1\" class=\"dataframe\">\n",
              "  <thead>\n",
              "    <tr style=\"text-align: right;\">\n",
              "      <th></th>\n",
              "      <th>default</th>\n",
              "      <th>Total_assets</th>\n",
              "      <th>Total_income</th>\n",
              "      <th>PAT_to_total_income</th>\n",
              "      <th>PBDITA_to_total_income</th>\n",
              "      <th>PBT_to_total_income</th>\n",
              "      <th>Cash_profit_to_total_income</th>\n",
              "      <th>Current_ratio</th>\n",
              "      <th>Debt_to_equity_ratio</th>\n",
              "    </tr>\n",
              "  </thead>\n",
              "  <tbody>\n",
              "    <tr>\n",
              "      <th>count</th>\n",
              "      <td>1384.000000</td>\n",
              "      <td>1384.000000</td>\n",
              "      <td>1384.000000</td>\n",
              "      <td>1384.000000</td>\n",
              "      <td>1384.000000</td>\n",
              "      <td>1384.000000</td>\n",
              "      <td>1384.000000</td>\n",
              "      <td>1384.000000</td>\n",
              "      <td>1384.000000</td>\n",
              "    </tr>\n",
              "    <tr>\n",
              "      <th>mean</th>\n",
              "      <td>0.234104</td>\n",
              "      <td>256.762568</td>\n",
              "      <td>381.657131</td>\n",
              "      <td>-29.922088</td>\n",
              "      <td>-4.380180</td>\n",
              "      <td>-27.554086</td>\n",
              "      <td>-16.239313</td>\n",
              "      <td>1.771303</td>\n",
              "      <td>3.394933</td>\n",
              "    </tr>\n",
              "    <tr>\n",
              "      <th>std</th>\n",
              "      <td>0.423591</td>\n",
              "      <td>404.127921</td>\n",
              "      <td>583.461117</td>\n",
              "      <td>346.245121</td>\n",
              "      <td>218.854784</td>\n",
              "      <td>332.137949</td>\n",
              "      <td>245.587280</td>\n",
              "      <td>2.323773</td>\n",
              "      <td>11.364884</td>\n",
              "    </tr>\n",
              "    <tr>\n",
              "      <th>min</th>\n",
              "      <td>0.000000</td>\n",
              "      <td>0.500000</td>\n",
              "      <td>0.100000</td>\n",
              "      <td>-9700.000000</td>\n",
              "      <td>-6400.000000</td>\n",
              "      <td>-9700.000000</td>\n",
              "      <td>-6400.000000</td>\n",
              "      <td>0.000000</td>\n",
              "      <td>0.000000</td>\n",
              "    </tr>\n",
              "    <tr>\n",
              "      <th>25%</th>\n",
              "      <td>0.000000</td>\n",
              "      <td>25.800000</td>\n",
              "      <td>31.225000</td>\n",
              "      <td>0.000000</td>\n",
              "      <td>3.501816</td>\n",
              "      <td>0.000000</td>\n",
              "      <td>1.045456</td>\n",
              "      <td>0.880000</td>\n",
              "      <td>0.187500</td>\n",
              "    </tr>\n",
              "    <tr>\n",
              "      <th>50%</th>\n",
              "      <td>0.000000</td>\n",
              "      <td>103.450000</td>\n",
              "      <td>187.550000</td>\n",
              "      <td>1.464327</td>\n",
              "      <td>8.569963</td>\n",
              "      <td>2.148565</td>\n",
              "      <td>4.638115</td>\n",
              "      <td>1.230000</td>\n",
              "      <td>0.860000</td>\n",
              "    </tr>\n",
              "    <tr>\n",
              "      <th>75%</th>\n",
              "      <td>0.000000</td>\n",
              "      <td>296.825000</td>\n",
              "      <td>428.142581</td>\n",
              "      <td>4.075183</td>\n",
              "      <td>13.438735</td>\n",
              "      <td>5.345512</td>\n",
              "      <td>8.024023</td>\n",
              "      <td>1.942500</td>\n",
              "      <td>1.970000</td>\n",
              "    </tr>\n",
              "    <tr>\n",
              "      <th>max</th>\n",
              "      <td>1.000000</td>\n",
              "      <td>2275.971000</td>\n",
              "      <td>3449.826000</td>\n",
              "      <td>150.000000</td>\n",
              "      <td>100.000000</td>\n",
              "      <td>100.000000</td>\n",
              "      <td>100.000000</td>\n",
              "      <td>18.790000</td>\n",
              "      <td>90.944100</td>\n",
              "    </tr>\n",
              "  </tbody>\n",
              "</table>\n",
              "</div>"
            ],
            "text/plain": [
              "           default  Total_assets  ...  Current_ratio  Debt_to_equity_ratio\n",
              "count  1384.000000   1384.000000  ...    1384.000000           1384.000000\n",
              "mean      0.234104    256.762568  ...       1.771303              3.394933\n",
              "std       0.423591    404.127921  ...       2.323773             11.364884\n",
              "min       0.000000      0.500000  ...       0.000000              0.000000\n",
              "25%       0.000000     25.800000  ...       0.880000              0.187500\n",
              "50%       0.000000    103.450000  ...       1.230000              0.860000\n",
              "75%       0.000000    296.825000  ...       1.942500              1.970000\n",
              "max       1.000000   2275.971000  ...      18.790000             90.944100\n",
              "\n",
              "[8 rows x 9 columns]"
            ]
          },
          "metadata": {},
          "execution_count": 36
        }
      ]
    },
    {
      "cell_type": "markdown",
      "metadata": {
        "id": "QgAkXkpCMpNe"
      },
      "source": [
        "#### Now, let us check the basic measures of descriptive statistics for the categorical variables."
      ]
    },
    {
      "cell_type": "code",
      "metadata": {
        "colab": {
          "base_uri": "https://localhost:8080/"
        },
        "id": "sOtKZX6eMpNe",
        "outputId": "3a478674-a55f-4bfc-bcdf-001f9a734a7c"
      },
      "source": [
        "Default[\"default\"].value_counts()"
      ],
      "execution_count": null,
      "outputs": [
        {
          "output_type": "execute_result",
          "data": {
            "text/plain": [
              "0    1060\n",
              "1     324\n",
              "Name: default, dtype: int64"
            ]
          },
          "metadata": {},
          "execution_count": 37
        }
      ]
    },
    {
      "cell_type": "markdown",
      "metadata": {
        "id": "fnnllEuFMpNe"
      },
      "source": [
        "#### Checking proportion of default"
      ]
    },
    {
      "cell_type": "code",
      "metadata": {
        "colab": {
          "base_uri": "https://localhost:8080/"
        },
        "id": "VpfUJ0mUMpNf",
        "outputId": "cfc0412d-8a8d-4517-edec-e4b72e174cc6"
      },
      "source": [
        "Default.default.sum() / len(Default.default)"
      ],
      "execution_count": null,
      "outputs": [
        {
          "output_type": "execute_result",
          "data": {
            "text/plain": [
              "0.23410404624277456"
            ]
          },
          "metadata": {},
          "execution_count": 38
        }
      ]
    },
    {
      "cell_type": "markdown",
      "metadata": {
        "id": "7rL7af8oMpNf"
      },
      "source": [
        "#### Check for missing values"
      ]
    },
    {
      "cell_type": "code",
      "metadata": {
        "scrolled": true,
        "colab": {
          "base_uri": "https://localhost:8080/"
        },
        "id": "mlTmxQD0MpNf",
        "outputId": "d8ff3db3-f5e3-4976-8710-b746794299f5"
      },
      "source": [
        "Default.isnull().sum()"
      ],
      "execution_count": null,
      "outputs": [
        {
          "output_type": "execute_result",
          "data": {
            "text/plain": [
              "default                        0\n",
              "Total_assets                   0\n",
              "Total_income                   0\n",
              "PAT_to_total_income            0\n",
              "PBDITA_to_total_income         0\n",
              "PBT_to_total_income            0\n",
              "Cash_profit_to_total_income    0\n",
              "Current_ratio                  0\n",
              "Debt_to_equity_ratio           0\n",
              "dtype: int64"
            ]
          },
          "metadata": {},
          "execution_count": 39
        }
      ]
    },
    {
      "cell_type": "markdown",
      "metadata": {
        "id": "DgjGjtaaMpNg"
      },
      "source": [
        "There are no missing values in the dataset."
      ]
    },
    {
      "cell_type": "markdown",
      "metadata": {
        "id": "PLE0_mHHMpNg"
      },
      "source": [
        "#### Getting Top 5 rows"
      ]
    },
    {
      "cell_type": "code",
      "metadata": {
        "colab": {
          "base_uri": "https://localhost:8080/",
          "height": 206
        },
        "id": "QtTxUeQ6MpNg",
        "outputId": "bb0976ca-b5bc-45cd-8c0c-5c0c8fb6034c"
      },
      "source": [
        "Default.head()"
      ],
      "execution_count": null,
      "outputs": [
        {
          "output_type": "execute_result",
          "data": {
            "text/html": [
              "<div>\n",
              "<style scoped>\n",
              "    .dataframe tbody tr th:only-of-type {\n",
              "        vertical-align: middle;\n",
              "    }\n",
              "\n",
              "    .dataframe tbody tr th {\n",
              "        vertical-align: top;\n",
              "    }\n",
              "\n",
              "    .dataframe thead th {\n",
              "        text-align: right;\n",
              "    }\n",
              "</style>\n",
              "<table border=\"1\" class=\"dataframe\">\n",
              "  <thead>\n",
              "    <tr style=\"text-align: right;\">\n",
              "      <th></th>\n",
              "      <th>default</th>\n",
              "      <th>Total_assets</th>\n",
              "      <th>Total_income</th>\n",
              "      <th>PAT_to_total_income</th>\n",
              "      <th>PBDITA_to_total_income</th>\n",
              "      <th>PBT_to_total_income</th>\n",
              "      <th>Cash_profit_to_total_income</th>\n",
              "      <th>Current_ratio</th>\n",
              "      <th>Debt_to_equity_ratio</th>\n",
              "    </tr>\n",
              "  </thead>\n",
              "  <tbody>\n",
              "    <tr>\n",
              "      <th>0</th>\n",
              "      <td>1</td>\n",
              "      <td>210.5</td>\n",
              "      <td>125.3</td>\n",
              "      <td>-25.059856</td>\n",
              "      <td>-10.454908</td>\n",
              "      <td>-25.059856</td>\n",
              "      <td>-19.792498</td>\n",
              "      <td>0.86</td>\n",
              "      <td>2.99</td>\n",
              "    </tr>\n",
              "    <tr>\n",
              "      <th>1</th>\n",
              "      <td>1</td>\n",
              "      <td>674.4</td>\n",
              "      <td>939.6</td>\n",
              "      <td>-5.487016</td>\n",
              "      <td>-0.723712</td>\n",
              "      <td>-5.487016</td>\n",
              "      <td>-4.252448</td>\n",
              "      <td>0.87</td>\n",
              "      <td>48.74</td>\n",
              "    </tr>\n",
              "    <tr>\n",
              "      <th>2</th>\n",
              "      <td>1</td>\n",
              "      <td>288.3</td>\n",
              "      <td>1.2</td>\n",
              "      <td>-2233.333333</td>\n",
              "      <td>-1785.083333</td>\n",
              "      <td>-2175.000000</td>\n",
              "      <td>-2100.000000</td>\n",
              "      <td>1.40</td>\n",
              "      <td>0.28</td>\n",
              "    </tr>\n",
              "    <tr>\n",
              "      <th>3</th>\n",
              "      <td>1</td>\n",
              "      <td>32.2</td>\n",
              "      <td>30.3</td>\n",
              "      <td>-15.511551</td>\n",
              "      <td>-6.930693</td>\n",
              "      <td>-15.181518</td>\n",
              "      <td>-12.541254</td>\n",
              "      <td>0.44</td>\n",
              "      <td>24.50</td>\n",
              "    </tr>\n",
              "    <tr>\n",
              "      <th>4</th>\n",
              "      <td>1</td>\n",
              "      <td>380.9</td>\n",
              "      <td>24.6</td>\n",
              "      <td>-208.943089</td>\n",
              "      <td>-1.626016</td>\n",
              "      <td>-208.536585</td>\n",
              "      <td>-142.276423</td>\n",
              "      <td>1.17</td>\n",
              "      <td>10.37</td>\n",
              "    </tr>\n",
              "  </tbody>\n",
              "</table>\n",
              "</div>"
            ],
            "text/plain": [
              "   default  Total_assets  ...  Current_ratio  Debt_to_equity_ratio\n",
              "0        1         210.5  ...           0.86                  2.99\n",
              "1        1         674.4  ...           0.87                 48.74\n",
              "2        1         288.3  ...           1.40                  0.28\n",
              "3        1          32.2  ...           0.44                 24.50\n",
              "4        1         380.9  ...           1.17                 10.37\n",
              "\n",
              "[5 rows x 9 columns]"
            ]
          },
          "metadata": {},
          "execution_count": 14
        }
      ]
    },
    {
      "cell_type": "code",
      "metadata": {
        "colab": {
          "base_uri": "https://localhost:8080/",
          "height": 609
        },
        "id": "5V-6oQbeMpNh",
        "outputId": "d056d388-5b22-4d6e-90ea-0ff34281e3ac"
      },
      "source": [
        "plt.figure(figsize=(18,10))\n",
        "Default.boxplot()"
      ],
      "execution_count": null,
      "outputs": [
        {
          "output_type": "execute_result",
          "data": {
            "text/plain": [
              "<matplotlib.axes._subplots.AxesSubplot at 0x7fad76e7b7d0>"
            ]
          },
          "metadata": {},
          "execution_count": 27
        },
        {
          "output_type": "display_data",
          "data": {
            "image/png": "[encoded data removed]",
            "text/plain": [
              "<Figure size 1296x720 with 1 Axes>"
            ]
          },
          "metadata": {
            "needs_background": "light"
          }
        }
      ]
    },
    {
      "cell_type": "code",
      "metadata": {
        "id": "FXBWQrmFMpNh"
      },
      "source": [
        "Default_X = Default.drop('default', axis = 1)\n",
        "Default_Y = Default['default']"
      ],
      "execution_count": null,
      "outputs": []
    },
    {
      "cell_type": "code",
      "metadata": {
        "id": "_5ms5ZUbMpNh"
      },
      "source": [
        "def remove_outlier(col):\n",
        "    sorted(col)\n",
        "    Q1,Q3=np.percentile(col,[25,75])\n",
        "    IQR=Q3-Q1\n",
        "    lower_range= Q1-(1.5 * IQR)\n",
        "    upper_range= Q3+(1.5 * IQR)\n",
        "    return lower_range, upper_range"
      ],
      "execution_count": null,
      "outputs": []
    },
    {
      "cell_type": "code",
      "source": [
        "df1.info()"
      ],
      "metadata": {
        "id": "x50Rcnk_xOyK",
        "outputId": "cbff47a1-da24-459d-b5fe-8ce1c6e57754",
        "colab": {
          "base_uri": "https://localhost:8080/",
          "height": 1000
        }
      },
      "execution_count": null,
      "outputs": [
        {
          "output_type": "error",
          "ename": "NameError",
          "evalue": "ignored",
          "traceback": [
            "\u001b[0;31m---------------------------------------------------------------------------\u001b[0m",
            "\u001b[0;31mNameError\u001b[0m                                 Traceback (most recent call last)",
            "\u001b[0;32m<ipython-input-1-83941e9879da>\u001b[0m in \u001b[0;36m<module>\u001b[0;34m()\u001b[0m\n\u001b[0;32m----> 1\u001b[0;31m \u001b[0mdf1\u001b[0m\u001b[0;34m.\u001b[0m\u001b[0minfo\u001b[0m\u001b[0;34m(\u001b[0m\u001b[0;34m)\u001b[0m\u001b[0;34m\u001b[0m\u001b[0;34m\u001b[0m\u001b[0m\n\u001b[0m",
            "\u001b[0;31mNameError\u001b[0m: name 'df1' is not defined"
          ]
        }
      ]
    },
    {
      "cell_type": "code",
      "metadata": {
        "id": "1vVWEFnFMpNi"
      },
      "source": [
        "for column in Default_X.columns:\n",
        "    lr,ur=remove_outlier(Default[column])\n",
        "    Default_X[column]=np.where(Default_X[column]>ur,ur,Default_X[column])\n",
        "    Default_X[column]=np.where(Default_X[column]<lr,lr,Default_X[column])"
      ],
      "execution_count": null,
      "outputs": []
    },
    {
      "cell_type": "code",
      "metadata": {
        "id": "LdXnTSjdMpNi"
      },
      "source": [
        "Default = pd.concat([Default_X, Default_Y], axis = 1)"
      ],
      "execution_count": null,
      "outputs": []
    },
    {
      "cell_type": "markdown",
      "metadata": {
        "id": "611_D-6uMpNi"
      },
      "source": [
        "### Correlation heatmap"
      ]
    },
    {
      "cell_type": "code",
      "metadata": {
        "id": "XHd14MAcMpNi",
        "colab": {
          "base_uri": "https://localhost:8080/",
          "height": 1000
        },
        "outputId": "05696807-968a-4eda-ee4e-286094cf6d41"
      },
      "source": [
        "#calculate column correlations and make a seaborn heatmap - Before standardisation\n",
        "\n",
        "plt.figure(figsize=(20,20))  # setting the size of figure to 12 by 10\n",
        "sns.heatmap(Default.corr(), annot=True,cmap='coolwarm',square=True)"
      ],
      "execution_count": null,
      "outputs": [
        {
          "output_type": "execute_result",
          "data": {
            "text/plain": [
              "<matplotlib.axes._subplots.AxesSubplot at 0x7fad76d2a810>"
            ]
          },
          "metadata": {},
          "execution_count": 42
        },
        {
          "output_type": "display_data",
          "data": {
            "image/png": "[encoded data removed]",
            "text/plain": [
              "<Figure size 1440x1440 with 2 Axes>"
            ]
          },
          "metadata": {
            "needs_background": "light"
          }
        }
      ]
    },
    {
      "cell_type": "markdown",
      "metadata": {
        "id": "aeSSG8XTMpNj"
      },
      "source": [
        "- Vaiables such as PAT_as_perc_of_total_income, PBDITA_as_perc_of_total_income, PBT_as_perc_of_total_income, Cash_profit_as_perc_of_total_income  are highly correlated among themselves\n",
        "- Total income & Total assets seem to be highly correlated with each other"
      ]
    },
    {
      "cell_type": "markdown",
      "metadata": {
        "id": "QZhR6OydMpNj"
      },
      "source": [
        "# Model Building using Logistic Regression for 'Probability at default'"
      ]
    },
    {
      "cell_type": "markdown",
      "metadata": {
        "id": "E7EWSvrBMpNj"
      },
      "source": [
        "## The equation of the Logistic Regression by which we predict the corresponding probabilities and then go on predict a discrete target variable is\n",
        "# y = $\\frac{1}{1 + {e^{-z}}}$\n",
        "\n",
        "### Note: z  = $\\beta_0$ +${\\sum_{i=1}^{n}(\\beta_i  X_1)}$"
      ]
    },
    {
      "cell_type": "markdown",
      "metadata": {
        "id": "26NFqAidMpNj"
      },
      "source": [
        "#### Now, Importing statsmodels modules"
      ]
    },
    {
      "cell_type": "markdown",
      "metadata": {
        "id": "ITL0DnOXMpNj"
      },
      "source": [
        "#### Creating logistic regression equation & storing it in f_1\n",
        "\n",
        "model = SM.logit(formula=’Dependent Variable ~ Σ𝐼𝑛𝑑𝑒𝑝𝑒𝑛𝑑𝑒𝑛𝑡 𝑉𝑎𝑟𝑖𝑎𝑏𝑙𝑒𝑠 (𝑘)’\n",
        "               data = ‘Data Frame containing the required values’).fit()"
      ]
    },
    {
      "cell_type": "code",
      "metadata": {
        "id": "sTIa6CPBMpNj"
      },
      "source": [
        "import statsmodels.formula.api as SM"
      ],
      "execution_count": null,
      "outputs": []
    },
    {
      "cell_type": "markdown",
      "metadata": {
        "id": "iOtB9iiaMpNk"
      },
      "source": [
        "## Model 1"
      ]
    },
    {
      "cell_type": "markdown",
      "metadata": {
        "id": "AVvOETzYMpNk"
      },
      "source": [
        "Lets check all columns we have in the dataset"
      ]
    },
    {
      "cell_type": "code",
      "metadata": {
        "id": "WLBbvQJGMpNl",
        "colab": {
          "base_uri": "https://localhost:8080/"
        },
        "outputId": "7b2cf2cc-e444-4c3f-b8de-3094d70bc34b"
      },
      "source": [
        "Default.columns"
      ],
      "execution_count": null,
      "outputs": [
        {
          "output_type": "execute_result",
          "data": {
            "text/plain": [
              "Index(['Total_assets', 'Total_income', 'PAT_to_total_income',\n",
              "       'PBDITA_to_total_income', 'PBT_to_total_income',\n",
              "       'Cash_profit_to_total_income', 'Current_ratio', 'Debt_to_equity_ratio',\n",
              "       'default'],\n",
              "      dtype='object')"
            ]
          },
          "metadata": {},
          "execution_count": 266
        }
      ]
    },
    {
      "cell_type": "code",
      "metadata": {
        "id": "dUS50l1iMpNl"
      },
      "source": [
        "f_1 = 'default ~ Total_assets + Total_income + PAT_to_total_income + PBDITA_to_total_income + PBT_to_total_income + Cash_profit_to_total_income + Current_ratio + Debt_to_equity_ratio'"
      ],
      "execution_count": null,
      "outputs": []
    },
    {
      "cell_type": "markdown",
      "metadata": {
        "id": "mxmVFZvuMpNl"
      },
      "source": [
        "#### Fitting the logistic regression model on 'Default' dataset"
      ]
    },
    {
      "cell_type": "code",
      "metadata": {
        "colab": {
          "base_uri": "https://localhost:8080/"
        },
        "id": "7DJ1_CMZMpNm",
        "outputId": "28762bd9-f028-4899-fd89-0e5ff4dcdafd"
      },
      "source": [
        "model_1 = SM.logit(formula = f_1, data=Default).fit()"
      ],
      "execution_count": null,
      "outputs": [
        {
          "output_type": "stream",
          "name": "stdout",
          "text": [
            "Optimization terminated successfully.\n",
            "         Current function value: 0.414667\n",
            "         Iterations 7\n"
          ]
        }
      ]
    },
    {
      "cell_type": "markdown",
      "metadata": {
        "id": "7S-6vBVlMpNm"
      },
      "source": [
        "#### Checking the parameters"
      ]
    },
    {
      "cell_type": "code",
      "metadata": {
        "scrolled": true,
        "colab": {
          "base_uri": "https://localhost:8080/",
          "height": 388
        },
        "id": "bn_jM1FIMpNm",
        "outputId": "beaddf20-7a99-47a4-ae12-a2e466729155"
      },
      "source": [
        "model_1.summary()"
      ],
      "execution_count": null,
      "outputs": [
        {
          "output_type": "execute_result",
          "data": {
            "text/html": [
              "<table class=\"simpletable\">\n",
              "<caption>Logit Regression Results</caption>\n",
              "<tr>\n",
              "  <th>Dep. Variable:</th>        <td>default</td>     <th>  No. Observations:  </th>  <td>  1384</td>  \n",
              "</tr>\n",
              "<tr>\n",
              "  <th>Model:</th>                 <td>Logit</td>      <th>  Df Residuals:      </th>  <td>  1375</td>  \n",
              "</tr>\n",
              "<tr>\n",
              "  <th>Method:</th>                 <td>MLE</td>       <th>  Df Model:          </th>  <td>     8</td>  \n",
              "</tr>\n",
              "<tr>\n",
              "  <th>Date:</th>            <td>Mon, 08 Nov 2021</td> <th>  Pseudo R-squ.:     </th>  <td>0.2380</td>  \n",
              "</tr>\n",
              "<tr>\n",
              "  <th>Time:</th>                <td>15:57:55</td>     <th>  Log-Likelihood:    </th> <td> -573.90</td> \n",
              "</tr>\n",
              "<tr>\n",
              "  <th>converged:</th>             <td>True</td>       <th>  LL-Null:           </th> <td> -753.16</td> \n",
              "</tr>\n",
              "<tr>\n",
              "  <th>Covariance Type:</th>     <td>nonrobust</td>    <th>  LLR p-value:       </th> <td>1.378e-72</td>\n",
              "</tr>\n",
              "</table>\n",
              "<table class=\"simpletable\">\n",
              "<tr>\n",
              "               <td></td>                  <th>coef</th>     <th>std err</th>      <th>z</th>      <th>P>|z|</th>  <th>[0.025</th>    <th>0.975]</th>  \n",
              "</tr>\n",
              "<tr>\n",
              "  <th>Intercept</th>                   <td>   -0.9072</td> <td>    0.193</td> <td>   -4.693</td> <td> 0.000</td> <td>   -1.286</td> <td>   -0.528</td>\n",
              "</tr>\n",
              "<tr>\n",
              "  <th>Total_assets</th>                <td>   -0.0079</td> <td>    0.001</td> <td>  -10.203</td> <td> 0.000</td> <td>   -0.009</td> <td>   -0.006</td>\n",
              "</tr>\n",
              "<tr>\n",
              "  <th>Total_income</th>                <td>    0.0016</td> <td>    0.000</td> <td>    3.777</td> <td> 0.000</td> <td>    0.001</td> <td>    0.002</td>\n",
              "</tr>\n",
              "<tr>\n",
              "  <th>PAT_to_total_income</th>         <td>    0.0406</td> <td>    0.068</td> <td>    0.601</td> <td> 0.548</td> <td>   -0.092</td> <td>    0.173</td>\n",
              "</tr>\n",
              "<tr>\n",
              "  <th>PBDITA_to_total_income</th>      <td>    0.0331</td> <td>    0.015</td> <td>    2.186</td> <td> 0.029</td> <td>    0.003</td> <td>    0.063</td>\n",
              "</tr>\n",
              "<tr>\n",
              "  <th>PBT_to_total_income</th>         <td>   -0.0845</td> <td>    0.053</td> <td>   -1.588</td> <td> 0.112</td> <td>   -0.189</td> <td>    0.020</td>\n",
              "</tr>\n",
              "<tr>\n",
              "  <th>Cash_profit_to_total_income</th> <td>   -0.0605</td> <td>    0.022</td> <td>   -2.757</td> <td> 0.006</td> <td>   -0.104</td> <td>   -0.018</td>\n",
              "</tr>\n",
              "<tr>\n",
              "  <th>Current_ratio</th>               <td>   -0.1658</td> <td>    0.081</td> <td>   -2.046</td> <td> 0.041</td> <td>   -0.325</td> <td>   -0.007</td>\n",
              "</tr>\n",
              "<tr>\n",
              "  <th>Debt_to_equity_ratio</th>        <td>    0.4780</td> <td>    0.049</td> <td>    9.665</td> <td> 0.000</td> <td>    0.381</td> <td>    0.575</td>\n",
              "</tr>\n",
              "</table>"
            ],
            "text/plain": [
              "<class 'statsmodels.iolib.summary.Summary'>\n",
              "\"\"\"\n",
              "                           Logit Regression Results                           \n",
              "==============================================================================\n",
              "Dep. Variable:                default   No. Observations:                 1384\n",
              "Model:                          Logit   Df Residuals:                     1375\n",
              "Method:                           MLE   Df Model:                            8\n",
              "Date:                Mon, 08 Nov 2021   Pseudo R-squ.:                  0.2380\n",
              "Time:                        15:57:55   Log-Likelihood:                -573.90\n",
              "converged:                       True   LL-Null:                       -753.16\n",
              "Covariance Type:            nonrobust   LLR p-value:                 1.378e-72\n",
              "===============================================================================================\n",
              "                                  coef    std err          z      P>|z|      [0.025      0.975]\n",
              "-----------------------------------------------------------------------------------------------\n",
              "Intercept                      -0.9072      0.193     -4.693      0.000      -1.286      -0.528\n",
              "Total_assets                   -0.0079      0.001    -10.203      0.000      -0.009      -0.006\n",
              "Total_income                    0.0016      0.000      3.777      0.000       0.001       0.002\n",
              "PAT_to_total_income             0.0406      0.068      0.601      0.548      -0.092       0.173\n",
              "PBDITA_to_total_income          0.0331      0.015      2.186      0.029       0.003       0.063\n",
              "PBT_to_total_income            -0.0845      0.053     -1.588      0.112      -0.189       0.020\n",
              "Cash_profit_to_total_income    -0.0605      0.022     -2.757      0.006      -0.104      -0.018\n",
              "Current_ratio                  -0.1658      0.081     -2.046      0.041      -0.325      -0.007\n",
              "Debt_to_equity_ratio            0.4780      0.049      9.665      0.000       0.381       0.575\n",
              "===============================================================================================\n",
              "\"\"\""
            ]
          },
          "metadata": {},
          "execution_count": 269
        }
      ]
    },
    {
      "cell_type": "markdown",
      "metadata": {
        "id": "iz2x9ssXMpNn"
      },
      "source": [
        "Most of the ratio variables are insignificant. "
      ]
    },
    {
      "cell_type": "markdown",
      "metadata": {
        "id": "C8QtXW4mMpNn"
      },
      "source": [
        "#### Checking the Variance Inflation Factor to treat the multicollinearity in the data"
      ]
    },
    {
      "cell_type": "code",
      "metadata": {
        "id": "5wgW0z8xMpNn"
      },
      "source": [
        "from statsmodels.stats.outliers_influence import variance_inflation_factor\n",
        "\n",
        "def calc_vif(X):\n",
        "\n",
        "    # Calculating VIF\n",
        "    vif = pd.DataFrame()\n",
        "    vif[\"variables\"] = X.columns\n",
        "    vif[\"VIF\"] = [variance_inflation_factor(X.values, i) for i in range(X.shape[1])]\n",
        "\n",
        "    return(vif)"
      ],
      "execution_count": null,
      "outputs": []
    },
    {
      "cell_type": "code",
      "metadata": {
        "colab": {
          "base_uri": "https://localhost:8080/",
          "height": 300
        },
        "id": "d1AVze4UMpNn",
        "outputId": "d79abd2e-2e9d-45df-fe59-c918717319d2"
      },
      "source": [
        "X = Default.drop('default', axis = 1)\n",
        "calc_vif(X).sort_values(by = 'VIF', ascending = False)"
      ],
      "execution_count": null,
      "outputs": [
        {
          "output_type": "execute_result",
          "data": {
            "text/html": [
              "<div>\n",
              "<style scoped>\n",
              "    .dataframe tbody tr th:only-of-type {\n",
              "        vertical-align: middle;\n",
              "    }\n",
              "\n",
              "    .dataframe tbody tr th {\n",
              "        vertical-align: top;\n",
              "    }\n",
              "\n",
              "    .dataframe thead th {\n",
              "        text-align: right;\n",
              "    }\n",
              "</style>\n",
              "<table border=\"1\" class=\"dataframe\">\n",
              "  <thead>\n",
              "    <tr style=\"text-align: right;\">\n",
              "      <th></th>\n",
              "      <th>variables</th>\n",
              "      <th>VIF</th>\n",
              "    </tr>\n",
              "  </thead>\n",
              "  <tbody>\n",
              "    <tr>\n",
              "      <th>4</th>\n",
              "      <td>PBT_to_total_income</td>\n",
              "      <td>21.102170</td>\n",
              "    </tr>\n",
              "    <tr>\n",
              "      <th>2</th>\n",
              "      <td>PAT_to_total_income</td>\n",
              "      <td>19.296923</td>\n",
              "    </tr>\n",
              "    <tr>\n",
              "      <th>5</th>\n",
              "      <td>Cash_profit_to_total_income</td>\n",
              "      <td>7.997149</td>\n",
              "    </tr>\n",
              "    <tr>\n",
              "      <th>3</th>\n",
              "      <td>PBDITA_to_total_income</td>\n",
              "      <td>7.834539</td>\n",
              "    </tr>\n",
              "    <tr>\n",
              "      <th>0</th>\n",
              "      <td>Total_assets</td>\n",
              "      <td>5.199503</td>\n",
              "    </tr>\n",
              "    <tr>\n",
              "      <th>1</th>\n",
              "      <td>Total_income</td>\n",
              "      <td>5.155808</td>\n",
              "    </tr>\n",
              "    <tr>\n",
              "      <th>6</th>\n",
              "      <td>Current_ratio</td>\n",
              "      <td>1.983593</td>\n",
              "    </tr>\n",
              "    <tr>\n",
              "      <th>7</th>\n",
              "      <td>Debt_to_equity_ratio</td>\n",
              "      <td>1.857565</td>\n",
              "    </tr>\n",
              "  </tbody>\n",
              "</table>\n",
              "</div>"
            ],
            "text/plain": [
              "                     variables        VIF\n",
              "4          PBT_to_total_income  21.102170\n",
              "2          PAT_to_total_income  19.296923\n",
              "5  Cash_profit_to_total_income   7.997149\n",
              "3       PBDITA_to_total_income   7.834539\n",
              "0                 Total_assets   5.199503\n",
              "1                 Total_income   5.155808\n",
              "6                Current_ratio   1.983593\n",
              "7         Debt_to_equity_ratio   1.857565"
            ]
          },
          "metadata": {},
          "execution_count": 271
        }
      ]
    },
    {
      "cell_type": "markdown",
      "metadata": {
        "id": "ERiSVY7dxxEN"
      },
      "source": [
        "VIF is the measure of how well an independent variable can be explained as a linear combination of other independent variables. \n",
        "A VIF of more than 5 means that the variable is more or less compensated by the other variables.\n",
        "\n",
        "We eliminate the one with the highest VIF since thes vif starts changing between themselves after that.\n"
      ]
    },
    {
      "cell_type": "code",
      "metadata": {
        "colab": {
          "base_uri": "https://localhost:8080/",
          "height": 269
        },
        "id": "a4nKNL4PMpNn",
        "outputId": "0d331905-8202-4514-87a0-dfe2338bd316"
      },
      "source": [
        "X = X.drop('PBT_to_total_income', axis = 1)\n",
        "calc_vif(X).sort_values(by = 'VIF', ascending = False)"
      ],
      "execution_count": null,
      "outputs": [
        {
          "output_type": "execute_result",
          "data": {
            "text/html": [
              "<div>\n",
              "<style scoped>\n",
              "    .dataframe tbody tr th:only-of-type {\n",
              "        vertical-align: middle;\n",
              "    }\n",
              "\n",
              "    .dataframe tbody tr th {\n",
              "        vertical-align: top;\n",
              "    }\n",
              "\n",
              "    .dataframe thead th {\n",
              "        text-align: right;\n",
              "    }\n",
              "</style>\n",
              "<table border=\"1\" class=\"dataframe\">\n",
              "  <thead>\n",
              "    <tr style=\"text-align: right;\">\n",
              "      <th></th>\n",
              "      <th>variables</th>\n",
              "      <th>VIF</th>\n",
              "    </tr>\n",
              "  </thead>\n",
              "  <tbody>\n",
              "    <tr>\n",
              "      <th>4</th>\n",
              "      <td>Cash_profit_to_total_income</td>\n",
              "      <td>7.876186</td>\n",
              "    </tr>\n",
              "    <tr>\n",
              "      <th>3</th>\n",
              "      <td>PBDITA_to_total_income</td>\n",
              "      <td>7.775399</td>\n",
              "    </tr>\n",
              "    <tr>\n",
              "      <th>0</th>\n",
              "      <td>Total_assets</td>\n",
              "      <td>5.199503</td>\n",
              "    </tr>\n",
              "    <tr>\n",
              "      <th>1</th>\n",
              "      <td>Total_income</td>\n",
              "      <td>5.140456</td>\n",
              "    </tr>\n",
              "    <tr>\n",
              "      <th>2</th>\n",
              "      <td>PAT_to_total_income</td>\n",
              "      <td>3.500457</td>\n",
              "    </tr>\n",
              "    <tr>\n",
              "      <th>5</th>\n",
              "      <td>Current_ratio</td>\n",
              "      <td>1.983329</td>\n",
              "    </tr>\n",
              "    <tr>\n",
              "      <th>6</th>\n",
              "      <td>Debt_to_equity_ratio</td>\n",
              "      <td>1.845903</td>\n",
              "    </tr>\n",
              "  </tbody>\n",
              "</table>\n",
              "</div>"
            ],
            "text/plain": [
              "                     variables       VIF\n",
              "4  Cash_profit_to_total_income  7.876186\n",
              "3       PBDITA_to_total_income  7.775399\n",
              "0                 Total_assets  5.199503\n",
              "1                 Total_income  5.140456\n",
              "2          PAT_to_total_income  3.500457\n",
              "5                Current_ratio  1.983329\n",
              "6         Debt_to_equity_ratio  1.845903"
            ]
          },
          "metadata": {},
          "execution_count": 272
        }
      ]
    },
    {
      "cell_type": "code",
      "metadata": {
        "colab": {
          "base_uri": "https://localhost:8080/",
          "height": 237
        },
        "id": "XBcZsNY6MpNn",
        "outputId": "ab46f0dd-3ef7-42f9-d3bf-293f879ea260"
      },
      "source": [
        "X = X.drop('Cash_profit_to_total_income', axis = 1)\n",
        "calc_vif(X).sort_values(by = 'VIF', ascending = False)"
      ],
      "execution_count": null,
      "outputs": [
        {
          "output_type": "execute_result",
          "data": {
            "text/html": [
              "<div>\n",
              "<style scoped>\n",
              "    .dataframe tbody tr th:only-of-type {\n",
              "        vertical-align: middle;\n",
              "    }\n",
              "\n",
              "    .dataframe tbody tr th {\n",
              "        vertical-align: top;\n",
              "    }\n",
              "\n",
              "    .dataframe thead th {\n",
              "        text-align: right;\n",
              "    }\n",
              "</style>\n",
              "<table border=\"1\" class=\"dataframe\">\n",
              "  <thead>\n",
              "    <tr style=\"text-align: right;\">\n",
              "      <th></th>\n",
              "      <th>variables</th>\n",
              "      <th>VIF</th>\n",
              "    </tr>\n",
              "  </thead>\n",
              "  <tbody>\n",
              "    <tr>\n",
              "      <th>0</th>\n",
              "      <td>Total_assets</td>\n",
              "      <td>5.197439</td>\n",
              "    </tr>\n",
              "    <tr>\n",
              "      <th>1</th>\n",
              "      <td>Total_income</td>\n",
              "      <td>5.139785</td>\n",
              "    </tr>\n",
              "    <tr>\n",
              "      <th>3</th>\n",
              "      <td>PBDITA_to_total_income</td>\n",
              "      <td>3.914149</td>\n",
              "    </tr>\n",
              "    <tr>\n",
              "      <th>2</th>\n",
              "      <td>PAT_to_total_income</td>\n",
              "      <td>2.814014</td>\n",
              "    </tr>\n",
              "    <tr>\n",
              "      <th>4</th>\n",
              "      <td>Current_ratio</td>\n",
              "      <td>1.977934</td>\n",
              "    </tr>\n",
              "    <tr>\n",
              "      <th>5</th>\n",
              "      <td>Debt_to_equity_ratio</td>\n",
              "      <td>1.793156</td>\n",
              "    </tr>\n",
              "  </tbody>\n",
              "</table>\n",
              "</div>"
            ],
            "text/plain": [
              "                variables       VIF\n",
              "0            Total_assets  5.197439\n",
              "1            Total_income  5.139785\n",
              "3  PBDITA_to_total_income  3.914149\n",
              "2     PAT_to_total_income  2.814014\n",
              "4           Current_ratio  1.977934\n",
              "5    Debt_to_equity_ratio  1.793156"
            ]
          },
          "metadata": {},
          "execution_count": 273
        }
      ]
    },
    {
      "cell_type": "code",
      "metadata": {
        "colab": {
          "base_uri": "https://localhost:8080/",
          "height": 206
        },
        "id": "Rr6__kEuMpNo",
        "outputId": "06199a34-eb02-4793-964c-11c97fc2e2b7"
      },
      "source": [
        "X = X.drop('Total_assets', axis = 1)\n",
        "calc_vif(X).sort_values(by = 'VIF', ascending = False)"
      ],
      "execution_count": null,
      "outputs": [
        {
          "output_type": "execute_result",
          "data": {
            "text/html": [
              "<div>\n",
              "<style scoped>\n",
              "    .dataframe tbody tr th:only-of-type {\n",
              "        vertical-align: middle;\n",
              "    }\n",
              "\n",
              "    .dataframe tbody tr th {\n",
              "        vertical-align: top;\n",
              "    }\n",
              "\n",
              "    .dataframe thead th {\n",
              "        text-align: right;\n",
              "    }\n",
              "</style>\n",
              "<table border=\"1\" class=\"dataframe\">\n",
              "  <thead>\n",
              "    <tr style=\"text-align: right;\">\n",
              "      <th></th>\n",
              "      <th>variables</th>\n",
              "      <th>VIF</th>\n",
              "    </tr>\n",
              "  </thead>\n",
              "  <tbody>\n",
              "    <tr>\n",
              "      <th>2</th>\n",
              "      <td>PBDITA_to_total_income</td>\n",
              "      <td>3.664134</td>\n",
              "    </tr>\n",
              "    <tr>\n",
              "      <th>1</th>\n",
              "      <td>PAT_to_total_income</td>\n",
              "      <td>2.758106</td>\n",
              "    </tr>\n",
              "    <tr>\n",
              "      <th>3</th>\n",
              "      <td>Current_ratio</td>\n",
              "      <td>1.955957</td>\n",
              "    </tr>\n",
              "    <tr>\n",
              "      <th>4</th>\n",
              "      <td>Debt_to_equity_ratio</td>\n",
              "      <td>1.757982</td>\n",
              "    </tr>\n",
              "    <tr>\n",
              "      <th>0</th>\n",
              "      <td>Total_income</td>\n",
              "      <td>1.697737</td>\n",
              "    </tr>\n",
              "  </tbody>\n",
              "</table>\n",
              "</div>"
            ],
            "text/plain": [
              "                variables       VIF\n",
              "2  PBDITA_to_total_income  3.664134\n",
              "1     PAT_to_total_income  2.758106\n",
              "3           Current_ratio  1.955957\n",
              "4    Debt_to_equity_ratio  1.757982\n",
              "0            Total_income  1.697737"
            ]
          },
          "metadata": {},
          "execution_count": 274
        }
      ]
    },
    {
      "cell_type": "markdown",
      "metadata": {
        "id": "Vho_ZCdu3SQg"
      },
      "source": [
        "We have addressed the multicollinearity and the redundancy between the independent variables."
      ]
    },
    {
      "cell_type": "code",
      "metadata": {
        "id": "ub1NZb2MMpNo"
      },
      "source": [
        "from sklearn.model_selection import train_test_split"
      ],
      "execution_count": null,
      "outputs": []
    },
    {
      "cell_type": "code",
      "metadata": {
        "id": "Q-d834psMpNo"
      },
      "source": [
        "y = Default['default']"
      ],
      "execution_count": null,
      "outputs": []
    },
    {
      "cell_type": "code",
      "metadata": {
        "id": "BTuv0RW4MpNo"
      },
      "source": [
        "X_train, X_test, y_train, y_test = train_test_split(X, y, test_size = 0.3, random_state = 12)"
      ],
      "execution_count": null,
      "outputs": []
    },
    {
      "cell_type": "code",
      "metadata": {
        "id": "Tsg3gk8pMpNp",
        "colab": {
          "base_uri": "https://localhost:8080/"
        },
        "outputId": "19c4ea57-659c-4c5a-d32d-783ec6f2038a"
      },
      "source": [
        "Default_train = pd.concat([X_train, y_train], axis = 1)\n",
        "Default_test = pd.concat([X_test, y_test], axis = 1)\n",
        "Default_train.shape"
      ],
      "execution_count": null,
      "outputs": [
        {
          "output_type": "execute_result",
          "data": {
            "text/plain": [
              "(968, 6)"
            ]
          },
          "metadata": {},
          "execution_count": 278
        }
      ]
    },
    {
      "cell_type": "markdown",
      "metadata": {
        "id": "X3Fi3cgCMpNp"
      },
      "source": [
        "## Model 2"
      ]
    },
    {
      "cell_type": "code",
      "metadata": {
        "colab": {
          "base_uri": "https://localhost:8080/"
        },
        "id": "bDVu1wikMpNp",
        "outputId": "bcc80440-1a5c-48ac-9261-d8326c779a03"
      },
      "source": [
        "model_2 = SM.logit(formula = 'default ~ PBDITA_to_total_income + PAT_to_total_income + Current_ratio + Debt_to_equity_ratio + Total_income', data=Default_train).fit()"
      ],
      "execution_count": null,
      "outputs": [
        {
          "output_type": "stream",
          "name": "stdout",
          "text": [
            "Optimization terminated successfully.\n",
            "         Current function value: 0.477293\n",
            "         Iterations 6\n"
          ]
        }
      ]
    },
    {
      "cell_type": "markdown",
      "metadata": {
        "id": "-7K0LTQRMpNp"
      },
      "source": [
        "#### Checking the coefficients"
      ]
    },
    {
      "cell_type": "code",
      "metadata": {
        "colab": {
          "base_uri": "https://localhost:8080/",
          "height": 326
        },
        "id": "OOl_28UwMpNq",
        "outputId": "e1c57330-2565-4357-a16b-c91f57766e02"
      },
      "source": [
        "model_2.summary()"
      ],
      "execution_count": null,
      "outputs": [
        {
          "output_type": "execute_result",
          "data": {
            "text/html": [
              "<table class=\"simpletable\">\n",
              "<caption>Logit Regression Results</caption>\n",
              "<tr>\n",
              "  <th>Dep. Variable:</th>        <td>default</td>     <th>  No. Observations:  </th>  <td>   968</td>  \n",
              "</tr>\n",
              "<tr>\n",
              "  <th>Model:</th>                 <td>Logit</td>      <th>  Df Residuals:      </th>  <td>   962</td>  \n",
              "</tr>\n",
              "<tr>\n",
              "  <th>Method:</th>                 <td>MLE</td>       <th>  Df Model:          </th>  <td>     5</td>  \n",
              "</tr>\n",
              "<tr>\n",
              "  <th>Date:</th>            <td>Mon, 08 Nov 2021</td> <th>  Pseudo R-squ.:     </th>  <td>0.1276</td>  \n",
              "</tr>\n",
              "<tr>\n",
              "  <th>Time:</th>                <td>15:57:56</td>     <th>  Log-Likelihood:    </th> <td> -462.02</td> \n",
              "</tr>\n",
              "<tr>\n",
              "  <th>converged:</th>             <td>True</td>       <th>  LL-Null:           </th> <td> -529.59</td> \n",
              "</tr>\n",
              "<tr>\n",
              "  <th>Covariance Type:</th>     <td>nonrobust</td>    <th>  LLR p-value:       </th> <td>1.934e-27</td>\n",
              "</tr>\n",
              "</table>\n",
              "<table class=\"simpletable\">\n",
              "<tr>\n",
              "             <td></td>               <th>coef</th>     <th>std err</th>      <th>z</th>      <th>P>|z|</th>  <th>[0.025</th>    <th>0.975]</th>  \n",
              "</tr>\n",
              "<tr>\n",
              "  <th>Intercept</th>              <td>   -0.8359</td> <td>    0.215</td> <td>   -3.897</td> <td> 0.000</td> <td>   -1.256</td> <td>   -0.415</td>\n",
              "</tr>\n",
              "<tr>\n",
              "  <th>PBDITA_to_total_income</th> <td>   -0.0293</td> <td>    0.012</td> <td>   -2.368</td> <td> 0.018</td> <td>   -0.054</td> <td>   -0.005</td>\n",
              "</tr>\n",
              "<tr>\n",
              "  <th>PAT_to_total_income</th>    <td>   -0.0269</td> <td>    0.027</td> <td>   -0.997</td> <td> 0.319</td> <td>   -0.080</td> <td>    0.026</td>\n",
              "</tr>\n",
              "<tr>\n",
              "  <th>Current_ratio</th>          <td>   -0.1514</td> <td>    0.097</td> <td>   -1.557</td> <td> 0.119</td> <td>   -0.342</td> <td>    0.039</td>\n",
              "</tr>\n",
              "<tr>\n",
              "  <th>Debt_to_equity_ratio</th>   <td>    0.3813</td> <td>    0.055</td> <td>    6.992</td> <td> 0.000</td> <td>    0.274</td> <td>    0.488</td>\n",
              "</tr>\n",
              "<tr>\n",
              "  <th>Total_income</th>           <td>   -0.0017</td> <td>    0.000</td> <td>   -5.340</td> <td> 0.000</td> <td>   -0.002</td> <td>   -0.001</td>\n",
              "</tr>\n",
              "</table>"
            ],
            "text/plain": [
              "<class 'statsmodels.iolib.summary.Summary'>\n",
              "\"\"\"\n",
              "                           Logit Regression Results                           \n",
              "==============================================================================\n",
              "Dep. Variable:                default   No. Observations:                  968\n",
              "Model:                          Logit   Df Residuals:                      962\n",
              "Method:                           MLE   Df Model:                            5\n",
              "Date:                Mon, 08 Nov 2021   Pseudo R-squ.:                  0.1276\n",
              "Time:                        15:57:56   Log-Likelihood:                -462.02\n",
              "converged:                       True   LL-Null:                       -529.59\n",
              "Covariance Type:            nonrobust   LLR p-value:                 1.934e-27\n",
              "==========================================================================================\n",
              "                             coef    std err          z      P>|z|      [0.025      0.975]\n",
              "------------------------------------------------------------------------------------------\n",
              "Intercept                 -0.8359      0.215     -3.897      0.000      -1.256      -0.415\n",
              "PBDITA_to_total_income    -0.0293      0.012     -2.368      0.018      -0.054      -0.005\n",
              "PAT_to_total_income       -0.0269      0.027     -0.997      0.319      -0.080       0.026\n",
              "Current_ratio             -0.1514      0.097     -1.557      0.119      -0.342       0.039\n",
              "Debt_to_equity_ratio       0.3813      0.055      6.992      0.000       0.274       0.488\n",
              "Total_income              -0.0017      0.000     -5.340      0.000      -0.002      -0.001\n",
              "==========================================================================================\n",
              "\"\"\""
            ]
          },
          "metadata": {},
          "execution_count": 280
        }
      ]
    },
    {
      "cell_type": "markdown",
      "metadata": {
        "id": "59pam4B8MpNq"
      },
      "source": [
        "PBDITA_to_total_income is an insignificant variable, therefore, we will eliminate it."
      ]
    },
    {
      "cell_type": "markdown",
      "metadata": {
        "id": "XJ85KHJxMpNq"
      },
      "source": [
        "## Model 3"
      ]
    },
    {
      "cell_type": "code",
      "metadata": {
        "colab": {
          "base_uri": "https://localhost:8080/"
        },
        "id": "t_95ClShMpNq",
        "outputId": "93a2bf1b-bb37-435c-c586-006526a7bd6c"
      },
      "source": [
        "model_3 = SM.logit(formula = 'default ~ PBDITA_to_total_income + Current_ratio + Debt_to_equity_ratio + Total_income', data=Default_train).fit()"
      ],
      "execution_count": null,
      "outputs": [
        {
          "output_type": "stream",
          "name": "stdout",
          "text": [
            "Optimization terminated successfully.\n",
            "         Current function value: 0.477799\n",
            "         Iterations 6\n"
          ]
        }
      ]
    },
    {
      "cell_type": "markdown",
      "metadata": {
        "id": "XvxuagLnMpNq"
      },
      "source": [
        "#### Checking the coefficients"
      ]
    },
    {
      "cell_type": "code",
      "metadata": {
        "colab": {
          "base_uri": "https://localhost:8080/",
          "height": 305
        },
        "id": "quSbz3tGMpNr",
        "outputId": "3beb656e-ce97-49a9-f5fe-ac80487eb31d"
      },
      "source": [
        "model_3.summary()"
      ],
      "execution_count": null,
      "outputs": [
        {
          "output_type": "execute_result",
          "data": {
            "text/html": [
              "<table class=\"simpletable\">\n",
              "<caption>Logit Regression Results</caption>\n",
              "<tr>\n",
              "  <th>Dep. Variable:</th>        <td>default</td>     <th>  No. Observations:  </th>  <td>   968</td>  \n",
              "</tr>\n",
              "<tr>\n",
              "  <th>Model:</th>                 <td>Logit</td>      <th>  Df Residuals:      </th>  <td>   963</td>  \n",
              "</tr>\n",
              "<tr>\n",
              "  <th>Method:</th>                 <td>MLE</td>       <th>  Df Model:          </th>  <td>     4</td>  \n",
              "</tr>\n",
              "<tr>\n",
              "  <th>Date:</th>            <td>Mon, 08 Nov 2021</td> <th>  Pseudo R-squ.:     </th>  <td>0.1267</td>  \n",
              "</tr>\n",
              "<tr>\n",
              "  <th>Time:</th>                <td>15:57:56</td>     <th>  Log-Likelihood:    </th> <td> -462.51</td> \n",
              "</tr>\n",
              "<tr>\n",
              "  <th>converged:</th>             <td>True</td>       <th>  LL-Null:           </th> <td> -529.59</td> \n",
              "</tr>\n",
              "<tr>\n",
              "  <th>Covariance Type:</th>     <td>nonrobust</td>    <th>  LLR p-value:       </th> <td>5.029e-28</td>\n",
              "</tr>\n",
              "</table>\n",
              "<table class=\"simpletable\">\n",
              "<tr>\n",
              "             <td></td>               <th>coef</th>     <th>std err</th>      <th>z</th>      <th>P>|z|</th>  <th>[0.025</th>    <th>0.975]</th>  \n",
              "</tr>\n",
              "<tr>\n",
              "  <th>Intercept</th>              <td>   -0.7943</td> <td>    0.210</td> <td>   -3.775</td> <td> 0.000</td> <td>   -1.207</td> <td>   -0.382</td>\n",
              "</tr>\n",
              "<tr>\n",
              "  <th>PBDITA_to_total_income</th> <td>   -0.0382</td> <td>    0.009</td> <td>   -4.371</td> <td> 0.000</td> <td>   -0.055</td> <td>   -0.021</td>\n",
              "</tr>\n",
              "<tr>\n",
              "  <th>Current_ratio</th>          <td>   -0.1547</td> <td>    0.097</td> <td>   -1.590</td> <td> 0.112</td> <td>   -0.345</td> <td>    0.036</td>\n",
              "</tr>\n",
              "<tr>\n",
              "  <th>Debt_to_equity_ratio</th>   <td>    0.3990</td> <td>    0.052</td> <td>    7.726</td> <td> 0.000</td> <td>    0.298</td> <td>    0.500</td>\n",
              "</tr>\n",
              "<tr>\n",
              "  <th>Total_income</th>           <td>   -0.0018</td> <td>    0.000</td> <td>   -5.806</td> <td> 0.000</td> <td>   -0.002</td> <td>   -0.001</td>\n",
              "</tr>\n",
              "</table>"
            ],
            "text/plain": [
              "<class 'statsmodels.iolib.summary.Summary'>\n",
              "\"\"\"\n",
              "                           Logit Regression Results                           \n",
              "==============================================================================\n",
              "Dep. Variable:                default   No. Observations:                  968\n",
              "Model:                          Logit   Df Residuals:                      963\n",
              "Method:                           MLE   Df Model:                            4\n",
              "Date:                Mon, 08 Nov 2021   Pseudo R-squ.:                  0.1267\n",
              "Time:                        15:57:56   Log-Likelihood:                -462.51\n",
              "converged:                       True   LL-Null:                       -529.59\n",
              "Covariance Type:            nonrobust   LLR p-value:                 5.029e-28\n",
              "==========================================================================================\n",
              "                             coef    std err          z      P>|z|      [0.025      0.975]\n",
              "------------------------------------------------------------------------------------------\n",
              "Intercept                 -0.7943      0.210     -3.775      0.000      -1.207      -0.382\n",
              "PBDITA_to_total_income    -0.0382      0.009     -4.371      0.000      -0.055      -0.021\n",
              "Current_ratio             -0.1547      0.097     -1.590      0.112      -0.345       0.036\n",
              "Debt_to_equity_ratio       0.3990      0.052      7.726      0.000       0.298       0.500\n",
              "Total_income              -0.0018      0.000     -5.806      0.000      -0.002      -0.001\n",
              "==========================================================================================\n",
              "\"\"\""
            ]
          },
          "metadata": {},
          "execution_count": 282
        }
      ]
    },
    {
      "cell_type": "markdown",
      "metadata": {
        "id": "S0sRI3MCMpNr"
      },
      "source": [
        "Current_ratio is still insignificant, therefore, we will eliminate it"
      ]
    },
    {
      "cell_type": "markdown",
      "metadata": {
        "id": "OovR4pxDMpNr"
      },
      "source": [
        "## Model 4"
      ]
    },
    {
      "cell_type": "markdown",
      "metadata": {
        "id": "Sq0feGbGMpNr"
      },
      "source": [
        "Adding variables pertaining to Repayment Status"
      ]
    },
    {
      "cell_type": "code",
      "metadata": {
        "colab": {
          "base_uri": "https://localhost:8080/"
        },
        "id": "Lag6T8yCMpNr",
        "outputId": "563f179f-3a36-4e20-d7e0-d980584f5bc4"
      },
      "source": [
        "model_4 = SM.logit(formula = 'default ~ PBDITA_to_total_income + Debt_to_equity_ratio + Total_income', data=Default_train).fit()"
      ],
      "execution_count": null,
      "outputs": [
        {
          "output_type": "stream",
          "name": "stdout",
          "text": [
            "Optimization terminated successfully.\n",
            "         Current function value: 0.479129\n",
            "         Iterations 6\n"
          ]
        }
      ]
    },
    {
      "cell_type": "code",
      "metadata": {
        "colab": {
          "base_uri": "https://localhost:8080/",
          "height": 285
        },
        "id": "ZMunJxKKMpNs",
        "outputId": "611c7153-b73a-443e-ec26-65d0a7ae7320"
      },
      "source": [
        "model_4.summary()"
      ],
      "execution_count": null,
      "outputs": [
        {
          "output_type": "execute_result",
          "data": {
            "text/html": [
              "<table class=\"simpletable\">\n",
              "<caption>Logit Regression Results</caption>\n",
              "<tr>\n",
              "  <th>Dep. Variable:</th>        <td>default</td>     <th>  No. Observations:  </th>  <td>   968</td>  \n",
              "</tr>\n",
              "<tr>\n",
              "  <th>Model:</th>                 <td>Logit</td>      <th>  Df Residuals:      </th>  <td>   964</td>  \n",
              "</tr>\n",
              "<tr>\n",
              "  <th>Method:</th>                 <td>MLE</td>       <th>  Df Model:          </th>  <td>     3</td>  \n",
              "</tr>\n",
              "<tr>\n",
              "  <th>Date:</th>            <td>Mon, 08 Nov 2021</td> <th>  Pseudo R-squ.:     </th>  <td>0.1242</td>  \n",
              "</tr>\n",
              "<tr>\n",
              "  <th>Time:</th>                <td>15:57:56</td>     <th>  Log-Likelihood:    </th> <td> -463.80</td> \n",
              "</tr>\n",
              "<tr>\n",
              "  <th>converged:</th>             <td>True</td>       <th>  LL-Null:           </th> <td> -529.59</td> \n",
              "</tr>\n",
              "<tr>\n",
              "  <th>Covariance Type:</th>     <td>nonrobust</td>    <th>  LLR p-value:       </th> <td>2.469e-28</td>\n",
              "</tr>\n",
              "</table>\n",
              "<table class=\"simpletable\">\n",
              "<tr>\n",
              "             <td></td>               <th>coef</th>     <th>std err</th>      <th>z</th>      <th>P>|z|</th>  <th>[0.025</th>    <th>0.975]</th>  \n",
              "</tr>\n",
              "<tr>\n",
              "  <th>Intercept</th>              <td>   -1.0365</td> <td>    0.148</td> <td>   -6.981</td> <td> 0.000</td> <td>   -1.327</td> <td>   -0.745</td>\n",
              "</tr>\n",
              "<tr>\n",
              "  <th>PBDITA_to_total_income</th> <td>   -0.0388</td> <td>    0.009</td> <td>   -4.430</td> <td> 0.000</td> <td>   -0.056</td> <td>   -0.022</td>\n",
              "</tr>\n",
              "<tr>\n",
              "  <th>Debt_to_equity_ratio</th>   <td>    0.4148</td> <td>    0.051</td> <td>    8.171</td> <td> 0.000</td> <td>    0.315</td> <td>    0.514</td>\n",
              "</tr>\n",
              "<tr>\n",
              "  <th>Total_income</th>           <td>   -0.0017</td> <td>    0.000</td> <td>   -5.717</td> <td> 0.000</td> <td>   -0.002</td> <td>   -0.001</td>\n",
              "</tr>\n",
              "</table>"
            ],
            "text/plain": [
              "<class 'statsmodels.iolib.summary.Summary'>\n",
              "\"\"\"\n",
              "                           Logit Regression Results                           \n",
              "==============================================================================\n",
              "Dep. Variable:                default   No. Observations:                  968\n",
              "Model:                          Logit   Df Residuals:                      964\n",
              "Method:                           MLE   Df Model:                            3\n",
              "Date:                Mon, 08 Nov 2021   Pseudo R-squ.:                  0.1242\n",
              "Time:                        15:57:56   Log-Likelihood:                -463.80\n",
              "converged:                       True   LL-Null:                       -529.59\n",
              "Covariance Type:            nonrobust   LLR p-value:                 2.469e-28\n",
              "==========================================================================================\n",
              "                             coef    std err          z      P>|z|      [0.025      0.975]\n",
              "------------------------------------------------------------------------------------------\n",
              "Intercept                 -1.0365      0.148     -6.981      0.000      -1.327      -0.745\n",
              "PBDITA_to_total_income    -0.0388      0.009     -4.430      0.000      -0.056      -0.022\n",
              "Debt_to_equity_ratio       0.4148      0.051      8.171      0.000       0.315       0.514\n",
              "Total_income              -0.0017      0.000     -5.717      0.000      -0.002      -0.001\n",
              "==========================================================================================\n",
              "\"\"\""
            ]
          },
          "metadata": {},
          "execution_count": 284
        }
      ]
    },
    {
      "cell_type": "code",
      "metadata": {
        "id": "krS3SOw1MpNs",
        "colab": {
          "base_uri": "https://localhost:8080/"
        },
        "outputId": "bb9923fe-31f8-4a8f-9ecd-997bcbd510eb"
      },
      "source": [
        "y_prob_pred_train = model_4.predict(Default_train)\n",
        "y_prob_pred_train"
      ],
      "execution_count": null,
      "outputs": [
        {
          "output_type": "execute_result",
          "data": {
            "text/plain": [
              "56      0.291112\n",
              "1033    0.244220\n",
              "844     0.255290\n",
              "470     0.538204\n",
              "1253    0.090739\n",
              "          ...   \n",
              "278     0.295285\n",
              "432     0.459753\n",
              "1283    0.112649\n",
              "1265    0.058963\n",
              "1277    0.071004\n",
              "Length: 968, dtype: float64"
            ]
          },
          "metadata": {},
          "execution_count": 285
        }
      ]
    },
    {
      "cell_type": "code",
      "metadata": {
        "id": "q03X3ucAMpNs"
      },
      "source": [
        "y_class_pred=[]\n",
        "for i in range(0,len(y_prob_pred_train)):\n",
        "    if np.array(y_prob_pred_train)[i]>0.5:\n",
        "        a=1\n",
        "    else:\n",
        "        a=0\n",
        "    y_class_pred.append(a)\n"
      ],
      "execution_count": null,
      "outputs": []
    },
    {
      "cell_type": "code",
      "metadata": {
        "id": "Kg0avD5jMpNs"
      },
      "source": [
        "from sklearn import metrics"
      ],
      "execution_count": null,
      "outputs": []
    },
    {
      "cell_type": "code",
      "metadata": {
        "id": "1g7gZPDHMpNs",
        "colab": {
          "base_uri": "https://localhost:8080/",
          "height": 278
        },
        "outputId": "ce98638d-d3c0-4616-90cc-dfd6b835d911"
      },
      "source": [
        "sns.heatmap((metrics.confusion_matrix(Default_train['default'],y_class_pred)),annot=True,fmt='.5g'\n",
        "            ,cmap='Blues');\n",
        "plt.xlabel('Predicted');\n",
        "plt.ylabel('Actuals',rotation=1);"
      ],
      "execution_count": null,
      "outputs": [
        {
          "output_type": "display_data",
          "data": {
            "image/png": "[encoded data removed]",
            "text/plain": [
              "<Figure size 432x288 with 2 Axes>"
            ]
          },
          "metadata": {
            "needs_background": "light"
          }
        }
      ]
    },
    {
      "cell_type": "code",
      "metadata": {
        "id": "q9fg1piQMpNs",
        "colab": {
          "base_uri": "https://localhost:8080/"
        },
        "outputId": "1e800652-edf1-4a03-e350-4796d5209690"
      },
      "source": [
        "#recall - in all the actual ones how many are really identfied ones by the model\n",
        "63/229"
      ],
      "execution_count": null,
      "outputs": [
        {
          "output_type": "execute_result",
          "data": {
            "text/plain": [
              "0.27510917030567683"
            ]
          },
          "metadata": {},
          "execution_count": 289
        }
      ]
    },
    {
      "cell_type": "code",
      "metadata": {
        "id": "nKIJf0ubMpNt",
        "colab": {
          "base_uri": "https://localhost:8080/"
        },
        "outputId": "14fca397-7731-4e1c-b165-a052128299b5"
      },
      "source": [
        "#precision - in all the ones how many are really ones\n",
        "63/86"
      ],
      "execution_count": null,
      "outputs": [
        {
          "output_type": "execute_result",
          "data": {
            "text/plain": [
              "0.7325581395348837"
            ]
          },
          "metadata": {},
          "execution_count": 290
        }
      ]
    },
    {
      "cell_type": "markdown",
      "metadata": {
        "id": "RAJVKNLX7ux4"
      },
      "source": [
        "Not a great model overall\n"
      ]
    },
    {
      "cell_type": "markdown",
      "metadata": {
        "id": "gwEjkuXTMpNt"
      },
      "source": [
        "## Prediction on the Data"
      ]
    },
    {
      "cell_type": "markdown",
      "metadata": {
        "id": "p1HYX3BkMpNt"
      },
      "source": [
        "Now, let us see the predicted probability values."
      ]
    },
    {
      "cell_type": "code",
      "metadata": {
        "id": "JwmvWF7AMpNt"
      },
      "source": [
        "y_prob_pred_4 = model_4.predict()"
      ],
      "execution_count": null,
      "outputs": []
    },
    {
      "cell_type": "code",
      "metadata": {
        "id": "rKnn4MKe9QmM"
      },
      "source": [
        ""
      ],
      "execution_count": null,
      "outputs": []
    },
    {
      "cell_type": "code",
      "metadata": {
        "colab": {
          "base_uri": "https://localhost:8080/",
          "height": 278
        },
        "id": "I_C8vLlKMpNt",
        "outputId": "8a7c873e-82ac-4557-d137-feb4808a8b4c"
      },
      "source": [
        "sns.boxplot(x=Default_train['default'],y=y_prob_pred_4)\n",
        "plt.xlabel('Default');"
      ],
      "execution_count": null,
      "outputs": [
        {
          "output_type": "display_data",
          "data": {
            "image/png": "[encoded data removed]",
            "text/plain": [
              "<Figure size 432x288 with 1 Axes>"
            ]
          },
          "metadata": {
            "needs_background": "light"
          }
        }
      ]
    },
    {
      "cell_type": "markdown",
      "metadata": {
        "id": "Dn5ul15vMpNt"
      },
      "source": [
        "#### Choosing the optimal threshold"
      ]
    },
    {
      "cell_type": "code",
      "metadata": {
        "colab": {
          "base_uri": "https://localhost:8080/"
        },
        "id": "XCNzUcLuMpNt",
        "outputId": "69748bd6-cd25-40d6-9a51-9d10f57d45c0"
      },
      "source": [
        "from sklearn.metrics import roc_curve\n",
        "fpr, tpr, thresholds = roc_curve(Default_train['default'],y_prob_pred_train)\n",
        "thresholds"
      ],
      "execution_count": null,
      "outputs": [
        {
          "output_type": "execute_result",
          "data": {
            "text/plain": [
              "array([1.79115757, 0.79115757, 0.79084099, 0.78902106, 0.78730619,\n",
              "       0.78607925, 0.68233081, 0.67930291, 0.6458995 , 0.64386686,\n",
              "       0.63275413, 0.63247164, 0.63181796, 0.62973683, 0.61084341,\n",
              "       0.60975932, 0.60208099, 0.60078234, 0.59506499, 0.59120659,\n",
              "       0.58495431, 0.58404445, 0.57464696, 0.57328658, 0.57090529,\n",
              "       0.56582866, 0.56510843, 0.56298052, 0.55310547, 0.54920227,\n",
              "       0.54136709, 0.53820421, 0.5362534 , 0.53602805, 0.52855224,\n",
              "       0.52674566, 0.52564658, 0.51084223, 0.51012765, 0.50394212,\n",
              "       0.49999554, 0.49142656, 0.48904453, 0.48830844, 0.48689279,\n",
              "       0.48111063, 0.47925206, 0.47255558, 0.47146238, 0.45975315,\n",
              "       0.44518293, 0.44379348, 0.44350662, 0.44224348, 0.4409302 ,\n",
              "       0.43816418, 0.436739  , 0.43206298, 0.43151833, 0.41926292,\n",
              "       0.41876956, 0.40620472, 0.40140566, 0.40100894, 0.40048377,\n",
              "       0.38793483, 0.38761137, 0.38673678, 0.38451852, 0.38358388,\n",
              "       0.37897177, 0.37650448, 0.37467296, 0.37400678, 0.36970898,\n",
              "       0.36730381, 0.36715167, 0.36640355, 0.36365404, 0.36190548,\n",
              "       0.36169994, 0.35969111, 0.35935288, 0.35711854, 0.35711441,\n",
              "       0.35562199, 0.35530291, 0.35127522, 0.35014732, 0.34985597,\n",
              "       0.34920301, 0.34455384, 0.34437501, 0.34186706, 0.34059255,\n",
              "       0.33844357, 0.33615706, 0.33376924, 0.33318627, 0.3285904 ,\n",
              "       0.32784673, 0.32720984, 0.32369851, 0.31639407, 0.31634686,\n",
              "       0.31161492, 0.3114166 , 0.30740633, 0.30702126, 0.30552197,\n",
              "       0.30541165, 0.30458485, 0.30391517, 0.29552387, 0.29528489,\n",
              "       0.29520269, 0.29324492, 0.29307487, 0.29111234, 0.28377051,\n",
              "       0.28179653, 0.27885444, 0.27814608, 0.27620497, 0.27533123,\n",
              "       0.27465805, 0.2728864 , 0.27237839, 0.27141388, 0.26817895,\n",
              "       0.26619683, 0.26582793, 0.26568997, 0.26276202, 0.26275382,\n",
              "       0.26226103, 0.26180009, 0.26176645, 0.26159828, 0.26149741,\n",
              "       0.25804241, 0.2580335 , 0.2514896 , 0.2511525 , 0.25002147,\n",
              "       0.249384  , 0.24140882, 0.24104733, 0.24000132, 0.23968519,\n",
              "       0.2384699 , 0.23826693, 0.23689834, 0.23661398, 0.2353495 ,\n",
              "       0.23507306, 0.23392374, 0.23357147, 0.230027  , 0.22953405,\n",
              "       0.22837744, 0.22822629, 0.21950386, 0.21931394, 0.21843162,\n",
              "       0.21702902, 0.20825789, 0.20824583, 0.20806033, 0.20766379,\n",
              "       0.20180256, 0.20130585, 0.1856391 , 0.18446358, 0.18304987,\n",
              "       0.1830323 , 0.18236759, 0.18148931, 0.17769827, 0.17761941,\n",
              "       0.17418024, 0.17380673, 0.16634777, 0.16619692, 0.16505052,\n",
              "       0.16463523, 0.15918509, 0.15861958, 0.15442184, 0.15392042,\n",
              "       0.1518966 , 0.15168695, 0.15028625, 0.14953448, 0.14659225,\n",
              "       0.14625258, 0.14475303, 0.14459356, 0.14441683, 0.14430491,\n",
              "       0.14419306, 0.14408128, 0.13797472, 0.13760761, 0.13393138,\n",
              "       0.13351886, 0.13021876, 0.1296243 , 0.12666384, 0.12650631,\n",
              "       0.12424369, 0.12333251, 0.12270478, 0.12227581, 0.11264945,\n",
              "       0.11255145, 0.11220386, 0.11164983, 0.11146111, 0.11143266,\n",
              "       0.11137386, 0.11122188, 0.11014172, 0.11000296, 0.10829987,\n",
              "       0.10717064, 0.10564994, 0.1055934 , 0.10559055, 0.10557696,\n",
              "       0.10344274, 0.10336886, 0.10161474, 0.10146242, 0.09960036,\n",
              "       0.09958723, 0.08475901, 0.08475758, 0.08345174, 0.08334667,\n",
              "       0.08033793, 0.07992598, 0.07493685, 0.07384115, 0.07314605,\n",
              "       0.07223284, 0.0538329 , 0.05331726, 0.05161686, 0.05018356,\n",
              "       0.04647471, 0.04594639, 0.024114  ])"
            ]
          },
          "metadata": {},
          "execution_count": 326
        }
      ]
    },
    {
      "cell_type": "code",
      "metadata": {
        "colab": {
          "base_uri": "https://localhost:8080/"
        },
        "id": "aeppXd1gMpNu",
        "outputId": "37e93c63-34ee-453f-a92b-aaae8f6c27f1"
      },
      "source": [
        "optimal_idx = np.argmax(tpr - fpr)\n",
        "optimal_threshold = thresholds[optimal_idx]\n",
        "optimal_threshold"
      ],
      "execution_count": null,
      "outputs": [
        {
          "output_type": "execute_result",
          "data": {
            "text/plain": [
              "0.2614974083898832"
            ]
          },
          "metadata": {},
          "execution_count": 327
        }
      ]
    },
    {
      "cell_type": "markdown",
      "metadata": {
        "id": "00qffPmpMpNu"
      },
      "source": [
        "#### Validating on the train set with revised threshold"
      ]
    },
    {
      "cell_type": "code",
      "metadata": {
        "id": "b7-X2BOYMpNu"
      },
      "source": [
        "y_class_pred=[]\n",
        "for i in range(0,len(y_prob_pred_train)):\n",
        "    if np.array(y_prob_pred_train)[i]>0.26:\n",
        "        a=1\n",
        "    else:\n",
        "        a=0\n",
        "    y_class_pred.append(a)"
      ],
      "execution_count": null,
      "outputs": []
    },
    {
      "cell_type": "code",
      "metadata": {
        "id": "usLBB-7pMpNu",
        "colab": {
          "base_uri": "https://localhost:8080/",
          "height": 278
        },
        "outputId": "64e6e154-5e2f-44d7-b738-05d56f135284"
      },
      "source": [
        "sns.heatmap((metrics.confusion_matrix(Default_train['default'],y_class_pred)),annot=True,fmt='.5g'\n",
        "            ,cmap='Blues');\n",
        "plt.xlabel('Predicted');\n",
        "plt.ylabel('Actuals',rotation=0);"
      ],
      "execution_count": null,
      "outputs": [
        {
          "output_type": "display_data",
          "data": {
            "image/png": "[encoded data removed]",
            "text/plain": [
              "<Figure size 432x288 with 2 Axes>"
            ]
          },
          "metadata": {
            "needs_background": "light"
          }
        }
      ]
    },
    {
      "cell_type": "markdown",
      "metadata": {
        "id": "nA6bf813MpNv"
      },
      "source": [
        "Let us now go ahead and print the classification report to check the various other parameters."
      ]
    },
    {
      "cell_type": "code",
      "metadata": {
        "id": "TTXytTynMpNv",
        "colab": {
          "base_uri": "https://localhost:8080/"
        },
        "outputId": "4d00437a-ee49-4dc8-ff29-69d8c8d7b935"
      },
      "source": [
        "print(metrics.classification_report(Default_train['default'],y_class_pred,digits=3))"
      ],
      "execution_count": null,
      "outputs": [
        {
          "output_type": "stream",
          "name": "stdout",
          "text": [
            "              precision    recall  f1-score   support\n",
            "\n",
            "           0      0.866     0.777     0.819       739\n",
            "           1      0.459     0.611     0.524       229\n",
            "\n",
            "    accuracy                          0.738       968\n",
            "   macro avg      0.662     0.694     0.672       968\n",
            "weighted avg      0.770     0.738     0.749       968\n",
            "\n"
          ]
        }
      ]
    },
    {
      "cell_type": "markdown",
      "metadata": {
        "id": "AYe3t65tMpNv"
      },
      "source": [
        "#### Validating on the test set"
      ]
    },
    {
      "cell_type": "code",
      "metadata": {
        "id": "W2F09SYQMpNw"
      },
      "source": [
        "y_prob_pred_test = model_4.predict(Default_test)"
      ],
      "execution_count": null,
      "outputs": []
    },
    {
      "cell_type": "code",
      "metadata": {
        "id": "qL_-q694MpNw"
      },
      "source": [
        "y_class_pred=[]\n",
        "for i in range(0,len(y_prob_pred_test)):\n",
        "    if np.array(y_prob_pred_test)[i]>0.26:\n",
        "        a=1\n",
        "    else:\n",
        "        a=0\n",
        "    y_class_pred.append(a)"
      ],
      "execution_count": null,
      "outputs": []
    },
    {
      "cell_type": "code",
      "metadata": {
        "id": "Y_LKEs7cMpNw",
        "colab": {
          "base_uri": "https://localhost:8080/",
          "height": 278
        },
        "outputId": "b5fb8c68-62f4-430e-ef4f-8358e9a5a80b"
      },
      "source": [
        "sns.heatmap((metrics.confusion_matrix(Default_test['default'],y_class_pred)),annot=True,fmt='.5g'\n",
        "            ,cmap='Blues');\n",
        "plt.xlabel('Predicted');\n",
        "plt.ylabel('Actuals',rotation=0);"
      ],
      "execution_count": null,
      "outputs": [
        {
          "output_type": "display_data",
          "data": {
            "image/png": "[encoded data removed]",
            "text/plain": [
              "<Figure size 432x288 with 2 Axes>"
            ]
          },
          "metadata": {
            "needs_background": "light"
          }
        }
      ]
    },
    {
      "cell_type": "code",
      "metadata": {
        "id": "nZEoygrnMpNw",
        "colab": {
          "base_uri": "https://localhost:8080/"
        },
        "outputId": "63d49374-4ba4-43fe-ea6a-171b2b259915"
      },
      "source": [
        "print(metrics.classification_report(Default_test['default'],y_class_pred,digits=3))"
      ],
      "execution_count": null,
      "outputs": [
        {
          "output_type": "stream",
          "name": "stdout",
          "text": [
            "              precision    recall  f1-score   support\n",
            "\n",
            "           0      0.882     0.766     0.820       321\n",
            "           1      0.453     0.653     0.534        95\n",
            "\n",
            "    accuracy                          0.740       416\n",
            "   macro avg      0.667     0.709     0.677       416\n",
            "weighted avg      0.784     0.740     0.755       416\n",
            "\n"
          ]
        }
      ]
    },
    {
      "cell_type": "markdown",
      "metadata": {
        "id": "x7VmkUduMpNw"
      },
      "source": [
        "# Linear Discriminant Analysis"
      ]
    },
    {
      "cell_type": "code",
      "metadata": {
        "id": "AmzTSwJCMpNx"
      },
      "source": [
        "from sklearn.discriminant_analysis import LinearDiscriminantAnalysis\n",
        "from sklearn.ensemble import RandomForestClassifier"
      ],
      "execution_count": null,
      "outputs": []
    },
    {
      "cell_type": "code",
      "metadata": {
        "id": "ubG1K0exMpNx"
      },
      "source": [
        "LDA = LinearDiscriminantAnalysis()"
      ],
      "execution_count": null,
      "outputs": []
    },
    {
      "cell_type": "code",
      "metadata": {
        "id": "Ke-z8Z43MpNy"
      },
      "source": [
        "lda_model = LDA.fit(X_train, y_train)"
      ],
      "execution_count": null,
      "outputs": []
    },
    {
      "cell_type": "code",
      "metadata": {
        "id": "97FR8HllMpNz"
      },
      "source": [
        "pred_train_lda = lda_model.predict(X_train)\n",
        "pred_test_lda = lda_model.predict(X_test)"
      ],
      "execution_count": null,
      "outputs": []
    },
    {
      "cell_type": "code",
      "metadata": {
        "id": "wTEaj_pGMpNz",
        "colab": {
          "base_uri": "https://localhost:8080/"
        },
        "outputId": "79b5227f-b277-42ab-cbb7-29d3fb157b76"
      },
      "source": [
        "print(metrics.classification_report(y_train, pred_train_lda))"
      ],
      "execution_count": null,
      "outputs": [
        {
          "output_type": "stream",
          "name": "stdout",
          "text": [
            "              precision    recall  f1-score   support\n",
            "\n",
            "           0       0.82      0.96      0.88       739\n",
            "           1       0.72      0.31      0.44       229\n",
            "\n",
            "    accuracy                           0.81       968\n",
            "   macro avg       0.77      0.64      0.66       968\n",
            "weighted avg       0.80      0.81      0.78       968\n",
            "\n"
          ]
        }
      ]
    },
    {
      "cell_type": "code",
      "metadata": {
        "id": "4W4P2TSxMpNz",
        "colab": {
          "base_uri": "https://localhost:8080/"
        },
        "outputId": "14865b4f-0a47-47d1-cd58-fc1be6e24666"
      },
      "source": [
        "print(metrics.classification_report(y_test, pred_test_lda))"
      ],
      "execution_count": null,
      "outputs": [
        {
          "output_type": "stream",
          "name": "stdout",
          "text": [
            "              precision    recall  f1-score   support\n",
            "\n",
            "           0       0.84      0.95      0.89       321\n",
            "           1       0.67      0.37      0.48        95\n",
            "\n",
            "    accuracy                           0.81       416\n",
            "   macro avg       0.75      0.66      0.68       416\n",
            "weighted avg       0.80      0.81      0.79       416\n",
            "\n"
          ]
        }
      ]
    },
    {
      "cell_type": "code",
      "metadata": {
        "id": "MeoJ0pagMpN1"
      },
      "source": [
        "pred_train_lda_prob = lda_model.predict_proba(X_train)[:,1]\n",
        "pred_test_lda_prob = lda_model.predict_proba(X_test)[:,1]"
      ],
      "execution_count": null,
      "outputs": []
    },
    {
      "cell_type": "code",
      "metadata": {
        "id": "e1ZJN-1OMpN1"
      },
      "source": [
        "fpr, tpr, thresholds = roc_curve(y_train,pred_train_lda_prob)"
      ],
      "execution_count": null,
      "outputs": []
    },
    {
      "cell_type": "code",
      "metadata": {
        "id": "zr5av66CMpN1",
        "colab": {
          "base_uri": "https://localhost:8080/"
        },
        "outputId": "95fa3d3f-f79a-4102-fcba-6eea2d4dde94"
      },
      "source": [
        "optimal_idx = np.argmax(tpr - fpr)\n",
        "optimal_threshold = thresholds[optimal_idx]\n",
        "optimal_threshold"
      ],
      "execution_count": null,
      "outputs": [
        {
          "output_type": "execute_result",
          "data": {
            "text/plain": [
              "0.2834827553153811"
            ]
          },
          "metadata": {},
          "execution_count": 368
        }
      ]
    },
    {
      "cell_type": "code",
      "metadata": {
        "id": "UbA0fo0iMpN2"
      },
      "source": [
        "y_class_pred=[]\n",
        "for i in range(0,len(pred_train_lda_prob)):\n",
        "    if np.array(pred_train_lda_prob)[i]>optimal_threshold:\n",
        "        a=1\n",
        "    else:\n",
        "        a=0\n",
        "    y_class_pred.append(a)"
      ],
      "execution_count": null,
      "outputs": []
    },
    {
      "cell_type": "code",
      "metadata": {
        "id": "jHdLZukPMpN2",
        "colab": {
          "base_uri": "https://localhost:8080/",
          "height": 282
        },
        "outputId": "1f8b04cf-2581-41b7-9539-3439b7f4ddcc"
      },
      "source": [
        "sns.heatmap((metrics.confusion_matrix(y_train,y_class_pred)),annot=True,fmt='.5g'\n",
        "            ,cmap='Blues');\n",
        "plt.xlabel('Predicted');\n",
        "plt.ylabel('Actuals',rotation=0);"
      ],
      "execution_count": null,
      "outputs": [
        {
          "output_type": "display_data",
          "data": {
            "image/png": "[encoded data removed]",
            "text/plain": [
              "<Figure size 432x288 with 2 Axes>"
            ]
          },
          "metadata": {
            "needs_background": "light"
          }
        }
      ]
    },
    {
      "cell_type": "code",
      "metadata": {
        "id": "pg270L14MpN2",
        "colab": {
          "base_uri": "https://localhost:8080/"
        },
        "outputId": "5b132f92-65d6-49f2-9fc8-dc6d1f364a9e"
      },
      "source": [
        "print(metrics.classification_report(y_train, y_class_pred,digits=3))"
      ],
      "execution_count": null,
      "outputs": [
        {
          "output_type": "stream",
          "name": "stdout",
          "text": [
            "              precision    recall  f1-score   support\n",
            "\n",
            "           0      0.859     0.817     0.838       739\n",
            "           1      0.491     0.568     0.526       229\n",
            "\n",
            "    accuracy                          0.758       968\n",
            "   macro avg      0.675     0.693     0.682       968\n",
            "weighted avg      0.772     0.758     0.764       968\n",
            "\n"
          ]
        }
      ]
    },
    {
      "cell_type": "code",
      "metadata": {
        "id": "Iq1kAJ-HMpN2"
      },
      "source": [
        "y_class_pred=[]\n",
        "for i in range(0,len(pred_test_lda_prob)):\n",
        "    if np.array(pred_test_lda_prob)[i]>optimal_threshold:\n",
        "        a=1\n",
        "    else:\n",
        "        a=0\n",
        "    y_class_pred.append(a)"
      ],
      "execution_count": null,
      "outputs": []
    },
    {
      "cell_type": "code",
      "metadata": {
        "id": "nz9OyPxSMpN4",
        "colab": {
          "base_uri": "https://localhost:8080/",
          "height": 278
        },
        "outputId": "cb3262e7-ff4f-4cfd-c17c-550125ff7963"
      },
      "source": [
        "sns.heatmap((metrics.confusion_matrix(y_test, y_class_pred)),annot=True,fmt='.5g'\n",
        "            ,cmap='Blues');\n",
        "plt.xlabel('Predicted');\n",
        "plt.ylabel('Actuals',rotation=0);"
      ],
      "execution_count": null,
      "outputs": [
        {
          "output_type": "display_data",
          "data": {
            "image/png": "[encoded data removed]",
            "text/plain": [
              "<Figure size 432x288 with 2 Axes>"
            ]
          },
          "metadata": {
            "needs_background": "light"
          }
        }
      ]
    },
    {
      "cell_type": "code",
      "metadata": {
        "id": "4ckttQcYMpN4",
        "colab": {
          "base_uri": "https://localhost:8080/"
        },
        "outputId": "3773adf4-51d8-4def-d2a2-2a1c18fb9bd1"
      },
      "source": [
        "print(metrics.classification_report(y_test, y_class_pred,digits=3))"
      ],
      "execution_count": null,
      "outputs": [
        {
          "output_type": "stream",
          "name": "stdout",
          "text": [
            "              precision    recall  f1-score   support\n",
            "\n",
            "           0      0.872     0.826     0.848       321\n",
            "           1      0.500     0.589     0.541        95\n",
            "\n",
            "    accuracy                          0.772       416\n",
            "   macro avg      0.686     0.708     0.695       416\n",
            "weighted avg      0.787     0.772     0.778       416\n",
            "\n"
          ]
        }
      ]
    },
    {
      "cell_type": "markdown",
      "metadata": {
        "id": "_dzmNkHGMpN4"
      },
      "source": [
        "# Random Forest Classifier"
      ]
    },
    {
      "cell_type": "code",
      "metadata": {
        "id": "IpmRXXJoMpN5"
      },
      "source": [
        "from sklearn.ensemble import RandomForestClassifier\n",
        "from sklearn.model_selection import GridSearchCV\n",
        "\n",
        "param_grid = {\n",
        "    'max_depth': [3, 5, 7],\n",
        "    'min_samples_leaf': [5, 10, 15],\n",
        "    'min_samples_split': [15, 30, 45],\n",
        "    'n_estimators': [25, 50]\n",
        "}\n",
        "\n",
        "rfcl = RandomForestClassifier()\n",
        "\n",
        "grid_search = GridSearchCV(estimator = rfcl, param_grid = param_grid)"
      ],
      "execution_count": null,
      "outputs": []
    },
    {
      "cell_type": "code",
      "metadata": {
        "id": "6G8lhTYqMpN5",
        "colab": {
          "base_uri": "https://localhost:8080/"
        },
        "outputId": "5397b686-67bf-4762-a407-db2262ee2f87"
      },
      "source": [
        "grid_search.fit(X_train, y_train)"
      ],
      "execution_count": null,
      "outputs": [
        {
          "output_type": "execute_result",
          "data": {
            "text/plain": [
              "GridSearchCV(cv=None, error_score=nan,\n",
              "             estimator=RandomForestClassifier(bootstrap=True, ccp_alpha=0.0,\n",
              "                                              class_weight=None,\n",
              "                                              criterion='gini', max_depth=None,\n",
              "                                              max_features='auto',\n",
              "                                              max_leaf_nodes=None,\n",
              "                                              max_samples=None,\n",
              "                                              min_impurity_decrease=0.0,\n",
              "                                              min_impurity_split=None,\n",
              "                                              min_samples_leaf=1,\n",
              "                                              min_samples_split=2,\n",
              "                                              min_weight_fraction_leaf=0.0,\n",
              "                                              n_estimators=100, n_jobs=None,\n",
              "                                              oob_score=False,\n",
              "                                              random_state=None, verbose=0,\n",
              "                                              warm_start=False),\n",
              "             iid='deprecated', n_jobs=None,\n",
              "             param_grid={'max_depth': [3, 5, 7],\n",
              "                         'min_samples_leaf': [5, 10, 15],\n",
              "                         'min_samples_split': [15, 30, 45],\n",
              "                         'n_estimators': [25, 50]},\n",
              "             pre_dispatch='2*n_jobs', refit=True, return_train_score=False,\n",
              "             scoring=None, verbose=0)"
            ]
          },
          "metadata": {},
          "execution_count": 383
        }
      ]
    },
    {
      "cell_type": "code",
      "metadata": {
        "id": "bf8IS_Z_MpN5",
        "colab": {
          "base_uri": "https://localhost:8080/"
        },
        "outputId": "e34654b2-c7be-4c5e-9f23-763a3893ba25"
      },
      "source": [
        "grid_search.best_params_"
      ],
      "execution_count": null,
      "outputs": [
        {
          "output_type": "execute_result",
          "data": {
            "text/plain": [
              "{'max_depth': 5,\n",
              " 'min_samples_leaf': 5,\n",
              " 'min_samples_split': 15,\n",
              " 'n_estimators': 50}"
            ]
          },
          "metadata": {},
          "execution_count": 319
        }
      ]
    },
    {
      "cell_type": "code",
      "metadata": {
        "id": "6PpOAbuLMpN5"
      },
      "source": [
        "best_grid = grid_search.best_estimator_"
      ],
      "execution_count": null,
      "outputs": []
    },
    {
      "cell_type": "code",
      "metadata": {
        "id": "voBYKUR6MpN7"
      },
      "source": [
        "pred_train_rf = best_grid.predict(X_train)\n",
        "pred_test_rf = best_grid.predict(X_test)"
      ],
      "execution_count": null,
      "outputs": []
    },
    {
      "cell_type": "code",
      "metadata": {
        "id": "U5r3ALz1MpN7",
        "colab": {
          "base_uri": "https://localhost:8080/"
        },
        "outputId": "f8e5c67d-7444-4966-f362-44ed812fc784"
      },
      "source": [
        "print(metrics.classification_report(y_train, pred_train_rf))"
      ],
      "execution_count": null,
      "outputs": [
        {
          "output_type": "stream",
          "name": "stdout",
          "text": [
            "              precision    recall  f1-score   support\n",
            "\n",
            "           0       0.89      0.96      0.92       739\n",
            "           1       0.81      0.62      0.70       229\n",
            "\n",
            "    accuracy                           0.88       968\n",
            "   macro avg       0.85      0.79      0.81       968\n",
            "weighted avg       0.87      0.88      0.87       968\n",
            "\n"
          ]
        }
      ]
    },
    {
      "cell_type": "code",
      "metadata": {
        "id": "UMSvnGurMpN7",
        "colab": {
          "base_uri": "https://localhost:8080/"
        },
        "outputId": "23d316f9-0b75-4b3c-be31-b5b123e35314"
      },
      "source": [
        "print(metrics.classification_report(y_test, pred_test_rf))"
      ],
      "execution_count": null,
      "outputs": [
        {
          "output_type": "stream",
          "name": "stdout",
          "text": [
            "              precision    recall  f1-score   support\n",
            "\n",
            "           0       0.87      0.95      0.91       321\n",
            "           1       0.76      0.54      0.63        95\n",
            "\n",
            "    accuracy                           0.86       416\n",
            "   macro avg       0.82      0.74      0.77       416\n",
            "weighted avg       0.85      0.86      0.85       416\n",
            "\n"
          ]
        }
      ]
    },
    {
      "cell_type": "markdown",
      "metadata": {
        "id": "VUtxk761MpN8"
      },
      "source": [
        "### Conclusion"
      ]
    },
    {
      "cell_type": "markdown",
      "metadata": {
        "id": "pJRCC3urMpN8"
      },
      "source": [
        "Amongst all the models we tried in this case Logistic Regression seems to be best aligned to our objective."
      ]
    },
    {
      "cell_type": "markdown",
      "metadata": {
        "id": "JvTZDZKXMpN8"
      },
      "source": [
        "## END"
      ]
    }
  ]
}